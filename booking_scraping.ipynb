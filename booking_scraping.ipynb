{
  "nbformat": 4,
  "nbformat_minor": 0,
  "metadata": {
    "colab": {
      "provenance": []
    },
    "kernelspec": {
      "name": "python3",
      "display_name": "Python 3"
    },
    "language_info": {
      "name": "python"
    }
  },
  "cells": [
    {
      "cell_type": "code",
      "execution_count": null,
      "metadata": {
        "id": "8JW5OO8O8JcE"
      },
      "outputs": [],
      "source": [
        "# install and import the libraries"
      ]
    },
    {
      "cell_type": "code",
      "source": [
        "!pip install \"httpx[http2,brotli]\" parsel"
      ],
      "metadata": {
        "id": "nMtVXDft2a8e"
      },
      "execution_count": null,
      "outputs": []
    },
    {
      "cell_type": "code",
      "source": [
        "pip install scrapfly-sdk"
      ],
      "metadata": {
        "id": "QLFSM7T-766c"
      },
      "execution_count": null,
      "outputs": []
    },
    {
      "cell_type": "code",
      "source": [
        "pip install beautifulsoup4"
      ],
      "metadata": {
        "id": "DbHrsVUn90fH"
      },
      "execution_count": null,
      "outputs": []
    },
    {
      "cell_type": "code",
      "source": [
        "pip install requests"
      ],
      "metadata": {
        "id": "EBDjml6P90jQ"
      },
      "execution_count": null,
      "outputs": []
    },
    {
      "cell_type": "code",
      "source": [
        "from bs4 import BeautifulSoup\n",
        "import matplotlib.pyplot as plt\n",
        "from matplotlib.pyplot import figure\n",
        "import requests\n",
        "import pandas as pd\n",
        "import httpx\n",
        "from httpx import AsyncClient\n",
        "import json\n",
        "from collections import defaultdict\n",
        "import asyncio\n",
        "import json\n",
        "import re\n",
        "from datetime import datetime\n",
        "from pathlib import Path\n",
        "import re\n",
        "from typing import List, Optional\n",
        "from urllib.parse import urlencode\n",
        "from scrapfly import ScrapflyClient, ScrapeConfig, ScrapeApiResponse\n",
        "from parsel import Selector\n",
        "import seaborn as sns"
      ],
      "metadata": {
        "id": "bIlQmAvJ8QDG"
      },
      "execution_count": 5,
      "outputs": []
    },
    {
      "cell_type": "code",
      "source": [
        "# print the 1st SRP: hotel names, hotel address, rating, price for hotels in Salzburg for 1 night 23.1.2025 - 24.1.2025"
      ],
      "metadata": {
        "id": "2rJdWnQmPOMV"
      },
      "execution_count": null,
      "outputs": []
    },
    {
      "cell_type": "code",
      "source": [
        "url = \"https://www.booking.com/searchresults.en-gb.html?ss=Salzburg%2C+Salzburg%2C+Austria&ssne=Lindau&ssne_untouched=Lindau&label=gen173nr-1FCAQoggJCC3JlZ2lvbl80MTI3SDFYBGgOiAEBmAExuAEZyAEM2AEB6AEB-AEDiAIBqAIDuAKd_fCrBsACAdICJDY1YjVjZDFiLWE0NjEtNDNkMi1hZjBmLTkyNDJjOTBlODg1ZNgCBeACAQ&aid=304142&lang=en-gb&sb=1&src_elem=sb&src=searchresults&dest_id=-1989985&dest_type=city&ac_position=0&ac_click_type=b&ac_langcode=en&ac_suggestion_list_length=5&search_selected=true&search_pageview_id=b4b9541203870147&ac_meta=GhBiNGI5NTQxMjAzODcwMTQ3IAAoATICZW46CFNhbHpidXJnQABKAFAA&checkin=2025-01-23&checkout=2025-01-24&group_adults=2&no_rooms=1&group_children=0\"\n",
        "\n",
        "headers={\"User-Agent\":\"Mozilla/5.0 (X11; Linux x86_64) AppleWebKit/537.36 (KHTML, like Gecko) Chrome/102.0.5042.108 Safari/537.36\"}\n",
        "\n",
        "response = requests.get(url, headers=headers)\n",
        "soup = BeautifulSoup(response.content, 'html.parser')\n",
        "\n",
        "print(response.status_code)\n",
        "\n",
        "hotel_results = []"
      ],
      "metadata": {
        "colab": {
          "base_uri": "https://localhost:8080/"
        },
        "id": "H0pU3Cz2PWH2",
        "outputId": "d1286046-a2bf-4059-be92-6739a833a2ee"
      },
      "execution_count": 10,
      "outputs": [
        {
          "output_type": "stream",
          "name": "stdout",
          "text": [
            "200\n"
          ]
        }
      ]
    },
    {
      "cell_type": "code",
      "source": [
        "# find the metadata\n",
        "for el in soup.find_all(\"div\", {\"data-testid\": \"property-card\"}):\n",
        "\n",
        "  hotel_results.append({\n",
        "            \"name\": el.find(\"div\", {\"data-testid\": \"title\"}).text.strip(),\n",
        "            \"link\": el.find(\"a\", {\"data-testid\": \"title-link\"})[\"href\"],\n",
        "            \"location\": el.find(\"span\", {\"data-testid\": \"address\"}).text.strip(),\n",
        "            \"pricing\": el.find(\"span\", {\"data-testid\": \"price-and-discounted-price\"}).text.strip(),\n",
        "            \"rating\": el.find(\"div\", {\"data-testid\": \"review-score\"}).text.strip().split(\" \")[0],\n",
        "            \"review_count\": el.find(\"div\", {\"data-testid\": \"review-score\"}).text.strip().split(\" \")[1],\n",
        "            \"thumbnail\": el.find(\"img\", {\"data-testid\": \"image\"})['src']\n",
        "        })"
      ],
      "metadata": {
        "colab": {
          "base_uri": "https://localhost:8080/",
          "height": 246
        },
        "id": "f7SIzTSzPWNp",
        "outputId": "e638e6e3-dade-4ea9-b6a8-41676ba7932c"
      },
      "execution_count": 11,
      "outputs": [
        {
          "output_type": "error",
          "ename": "AttributeError",
          "evalue": "ignored",
          "traceback": [
            "\u001b[0;31m---------------------------------------------------------------------------\u001b[0m",
            "\u001b[0;31mAttributeError\u001b[0m                            Traceback (most recent call last)",
            "\u001b[0;32m<ipython-input-11-e153d145cdc4>\u001b[0m in \u001b[0;36m<cell line: 2>\u001b[0;34m()\u001b[0m\n\u001b[1;32m      7\u001b[0m             \u001b[0;34m\"location\"\u001b[0m\u001b[0;34m:\u001b[0m \u001b[0mel\u001b[0m\u001b[0;34m.\u001b[0m\u001b[0mfind\u001b[0m\u001b[0;34m(\u001b[0m\u001b[0;34m\"span\"\u001b[0m\u001b[0;34m,\u001b[0m \u001b[0;34m{\u001b[0m\u001b[0;34m\"data-testid\"\u001b[0m\u001b[0;34m:\u001b[0m \u001b[0;34m\"address\"\u001b[0m\u001b[0;34m}\u001b[0m\u001b[0;34m)\u001b[0m\u001b[0;34m.\u001b[0m\u001b[0mtext\u001b[0m\u001b[0;34m.\u001b[0m\u001b[0mstrip\u001b[0m\u001b[0;34m(\u001b[0m\u001b[0;34m)\u001b[0m\u001b[0;34m,\u001b[0m\u001b[0;34m\u001b[0m\u001b[0;34m\u001b[0m\u001b[0m\n\u001b[1;32m      8\u001b[0m             \u001b[0;34m\"pricing\"\u001b[0m\u001b[0;34m:\u001b[0m \u001b[0mel\u001b[0m\u001b[0;34m.\u001b[0m\u001b[0mfind\u001b[0m\u001b[0;34m(\u001b[0m\u001b[0;34m\"span\"\u001b[0m\u001b[0;34m,\u001b[0m \u001b[0;34m{\u001b[0m\u001b[0;34m\"data-testid\"\u001b[0m\u001b[0;34m:\u001b[0m \u001b[0;34m\"price-and-discounted-price\"\u001b[0m\u001b[0;34m}\u001b[0m\u001b[0;34m)\u001b[0m\u001b[0;34m.\u001b[0m\u001b[0mtext\u001b[0m\u001b[0;34m.\u001b[0m\u001b[0mstrip\u001b[0m\u001b[0;34m(\u001b[0m\u001b[0;34m)\u001b[0m\u001b[0;34m,\u001b[0m\u001b[0;34m\u001b[0m\u001b[0;34m\u001b[0m\u001b[0m\n\u001b[0;32m----> 9\u001b[0;31m             \u001b[0;34m\"rating\"\u001b[0m\u001b[0;34m:\u001b[0m \u001b[0mel\u001b[0m\u001b[0;34m.\u001b[0m\u001b[0mfind\u001b[0m\u001b[0;34m(\u001b[0m\u001b[0;34m\"div\"\u001b[0m\u001b[0;34m,\u001b[0m \u001b[0;34m{\u001b[0m\u001b[0;34m\"data-testid\"\u001b[0m\u001b[0;34m:\u001b[0m \u001b[0;34m\"review-score\"\u001b[0m\u001b[0;34m}\u001b[0m\u001b[0;34m)\u001b[0m\u001b[0;34m.\u001b[0m\u001b[0mtext\u001b[0m\u001b[0;34m.\u001b[0m\u001b[0mstrip\u001b[0m\u001b[0;34m(\u001b[0m\u001b[0;34m)\u001b[0m\u001b[0;34m.\u001b[0m\u001b[0msplit\u001b[0m\u001b[0;34m(\u001b[0m\u001b[0;34m\" \"\u001b[0m\u001b[0;34m)\u001b[0m\u001b[0;34m[\u001b[0m\u001b[0;36m0\u001b[0m\u001b[0;34m]\u001b[0m\u001b[0;34m,\u001b[0m\u001b[0;34m\u001b[0m\u001b[0;34m\u001b[0m\u001b[0m\n\u001b[0m\u001b[1;32m     10\u001b[0m             \u001b[0;34m\"review_count\"\u001b[0m\u001b[0;34m:\u001b[0m \u001b[0mel\u001b[0m\u001b[0;34m.\u001b[0m\u001b[0mfind\u001b[0m\u001b[0;34m(\u001b[0m\u001b[0;34m\"div\"\u001b[0m\u001b[0;34m,\u001b[0m \u001b[0;34m{\u001b[0m\u001b[0;34m\"data-testid\"\u001b[0m\u001b[0;34m:\u001b[0m \u001b[0;34m\"review-score\"\u001b[0m\u001b[0;34m}\u001b[0m\u001b[0;34m)\u001b[0m\u001b[0;34m.\u001b[0m\u001b[0mtext\u001b[0m\u001b[0;34m.\u001b[0m\u001b[0mstrip\u001b[0m\u001b[0;34m(\u001b[0m\u001b[0;34m)\u001b[0m\u001b[0;34m.\u001b[0m\u001b[0msplit\u001b[0m\u001b[0;34m(\u001b[0m\u001b[0;34m\" \"\u001b[0m\u001b[0;34m)\u001b[0m\u001b[0;34m[\u001b[0m\u001b[0;36m1\u001b[0m\u001b[0;34m]\u001b[0m\u001b[0;34m,\u001b[0m\u001b[0;34m\u001b[0m\u001b[0;34m\u001b[0m\u001b[0m\n\u001b[1;32m     11\u001b[0m             \u001b[0;34m\"thumbnail\"\u001b[0m\u001b[0;34m:\u001b[0m \u001b[0mel\u001b[0m\u001b[0;34m.\u001b[0m\u001b[0mfind\u001b[0m\u001b[0;34m(\u001b[0m\u001b[0;34m\"img\"\u001b[0m\u001b[0;34m,\u001b[0m \u001b[0;34m{\u001b[0m\u001b[0;34m\"data-testid\"\u001b[0m\u001b[0;34m:\u001b[0m \u001b[0;34m\"image\"\u001b[0m\u001b[0;34m}\u001b[0m\u001b[0;34m)\u001b[0m\u001b[0;34m[\u001b[0m\u001b[0;34m'src'\u001b[0m\u001b[0;34m]\u001b[0m\u001b[0;34m\u001b[0m\u001b[0;34m\u001b[0m\u001b[0m\n",
            "\u001b[0;31mAttributeError\u001b[0m: 'NoneType' object has no attribute 'text'"
          ]
        }
      ]
    },
    {
      "cell_type": "code",
      "source": [
        "print(hotel_results)"
      ],
      "metadata": {
        "colab": {
          "base_uri": "https://localhost:8080/"
        },
        "id": "J-sskRWpQhhg",
        "outputId": "c46dc6aa-e8d9-4f7e-bedf-33e5e9f25f6e"
      },
      "execution_count": 12,
      "outputs": [
        {
          "output_type": "stream",
          "name": "stdout",
          "text": [
            "[{'name': 'Atel Hotel Lasserhof', 'link': 'https://www.booking.com/hotel/at/hotellasserhof.en-gb.html?label=gen173nr-1FCAQoggJCC3JlZ2lvbl80MTI3SDFYBGgOiAEBmAExuAEZyAEM2AEB6AEB-AEDiAIBqAIDuAKd_fCrBsACAdICJDY1YjVjZDFiLWE0NjEtNDNkMi1hZjBmLTkyNDJjOTBlODg1ZNgCBeACAQ&aid=304142&ucfs=1&arphpl=1&checkin=2025-01-23&checkout=2025-01-24&dest_id=-1989985&dest_type=city&group_adults=2&req_adults=2&no_rooms=1&group_children=0&req_children=0&hpos=1&hapos=1&sr_order=popularity&srpvid=bf6e91f079810120&srepoch=1702759522&all_sr_blocks=0_0_2_0_0&highlighted_blocks=0_0_2_0_0&matching_block_id=0_0_2_0_0&sr_pri_blocks=0_0_2_0_0__8280&from_sustainable_property_sr=1&from=searchresults#hotelTmpl', 'location': 'Salzburg', 'pricing': 'US$90', 'rating': '7.3Good', 'review_count': '3,101', 'thumbnail': 'https://cf.bstatic.com/xdata/images/hotel/square200/119558069.jpg?k=bc88e8ca15856bf2c08e5cb109876e22e098743ab96af6057fe8ac00d9f6fe7f&o='}, {'name': 'Leonardo Boutique Hotel Salzburg Gablerbräu', 'link': 'https://www.booking.com/hotel/at/star-inn-salzburg-gablerbra-u.en-gb.html?label=gen173nr-1FCAQoggJCC3JlZ2lvbl80MTI3SDFYBGgOiAEBmAExuAEZyAEM2AEB6AEB-AEDiAIBqAIDuAKd_fCrBsACAdICJDY1YjVjZDFiLWE0NjEtNDNkMi1hZjBmLTkyNDJjOTBlODg1ZNgCBeACAQ&aid=304142&ucfs=1&arphpl=1&checkin=2025-01-23&checkout=2025-01-24&dest_id=-1989985&dest_type=city&group_adults=2&req_adults=2&no_rooms=1&group_children=0&req_children=0&hpos=2&hapos=2&sr_order=popularity&srpvid=bf6e91f079810120&srepoch=1702759523&all_sr_blocks=35079927_91473144_0_2_0&highlighted_blocks=35079927_91473144_0_2_0&matching_block_id=35079927_91473144_0_2_0&sr_pri_blocks=35079927_91473144_0_2_0__11160&from_sustainable_property_sr=1&from=searchresults#hotelTmpl', 'location': 'Altstadt, Salzburg', 'pricing': 'US$122', 'rating': '8.3Very', 'review_count': 'good', 'thumbnail': 'https://cf.bstatic.com/xdata/images/hotel/square200/483622398.jpg?k=ec40cffafb841236b473517c9000320df2fe0cdb9874aef36ad189f285b47619&o='}, {'name': 'Altstadt Hotel Stadtkrug', 'link': 'https://www.booking.com/hotel/at/stadtkrug.en-gb.html?label=gen173nr-1FCAQoggJCC3JlZ2lvbl80MTI3SDFYBGgOiAEBmAExuAEZyAEM2AEB6AEB-AEDiAIBqAIDuAKd_fCrBsACAdICJDY1YjVjZDFiLWE0NjEtNDNkMi1hZjBmLTkyNDJjOTBlODg1ZNgCBeACAQ&aid=304142&ucfs=1&arphpl=1&checkin=2025-01-23&checkout=2025-01-24&dest_id=-1989985&dest_type=city&group_adults=2&req_adults=2&no_rooms=1&group_children=0&req_children=0&hpos=3&hapos=3&sr_order=popularity&srpvid=bf6e91f079810120&srepoch=1702759523&all_sr_blocks=7005509_351643582_2_1_0&highlighted_blocks=7005509_351643582_2_1_0&matching_block_id=7005509_351643582_2_1_0&sr_pri_blocks=7005509_351643582_2_1_0__24800&from_sustainable_property_sr=1&from=searchresults#hotelTmpl', 'location': 'Altstadt, Salzburg', 'pricing': 'US$271', 'rating': '8.4Very', 'review_count': 'good', 'thumbnail': 'https://cf.bstatic.com/xdata/images/hotel/square200/26873885.jpg?k=9380f7e0f4f6128941f8c52a249b44d740cd3fcf20a738a067ad1b2821fcc2d5&o='}, {'name': 'Hotel Bristol Salzburg', 'link': 'https://www.booking.com/hotel/at/hotelbristolsalzburg.en-gb.html?label=gen173nr-1FCAQoggJCC3JlZ2lvbl80MTI3SDFYBGgOiAEBmAExuAEZyAEM2AEB6AEB-AEDiAIBqAIDuAKd_fCrBsACAdICJDY1YjVjZDFiLWE0NjEtNDNkMi1hZjBmLTkyNDJjOTBlODg1ZNgCBeACAQ&aid=304142&ucfs=1&arphpl=1&checkin=2025-01-23&checkout=2025-01-24&dest_id=-1989985&dest_type=city&group_adults=2&req_adults=2&no_rooms=1&group_children=0&req_children=0&hpos=4&hapos=4&sr_order=popularity&srpvid=bf6e91f079810120&srepoch=1702759523&all_sr_blocks=7018203_343351850_0_1_0&highlighted_blocks=7018203_343351850_0_1_0&matching_block_id=7018203_343351850_0_1_0&sr_pri_blocks=7018203_343351850_0_1_0__66500&from_sustainable_property_sr=1&from=searchresults#hotelTmpl', 'location': 'Altstadt, Salzburg', 'pricing': 'US$726', 'rating': '8.9Fabulous', 'review_count': '894', 'thumbnail': 'https://cf.bstatic.com/xdata/images/hotel/square200/31611880.jpg?k=3095299d2fdb6eccf9504fd915210e3bbd0aef7a455dae206591e2946ccf254e&o='}, {'name': 'Altstadt Hotel Hofwirt Salzburg', 'link': 'https://www.booking.com/hotel/at/hofwirt.en-gb.html?label=gen173nr-1FCAQoggJCC3JlZ2lvbl80MTI3SDFYBGgOiAEBmAExuAEZyAEM2AEB6AEB-AEDiAIBqAIDuAKd_fCrBsACAdICJDY1YjVjZDFiLWE0NjEtNDNkMi1hZjBmLTkyNDJjOTBlODg1ZNgCBeACAQ&aid=304142&ucfs=1&arphpl=1&checkin=2025-01-23&checkout=2025-01-24&dest_id=-1989985&dest_type=city&group_adults=2&req_adults=2&no_rooms=1&group_children=0&req_children=0&hpos=5&hapos=5&sr_order=popularity&srpvid=bf6e91f079810120&srepoch=1702759523&all_sr_blocks=7043702_351492239_2_1_0&highlighted_blocks=7043702_351492239_2_1_0&matching_block_id=7043702_351492239_2_1_0&sr_pri_blocks=7043702_351492239_2_1_0__19530&from_sustainable_property_sr=1&from=searchresults#hotelTmpl', 'location': 'Salzburg', 'pricing': 'US$213', 'rating': '8.3Very', 'review_count': 'good', 'thumbnail': 'https://cf.bstatic.com/xdata/images/hotel/square200/354447151.jpg?k=4b36a7d554c1ba36a8e2bb05beb10bcb4d4eafe578bbaedf2a2665ce702d9322&o='}, {'name': 'Radisson Blu Hotel Altstadt', 'link': 'https://www.booking.com/hotel/at/hotelaltstadtradissonblu.en-gb.html?label=gen173nr-1FCAQoggJCC3JlZ2lvbl80MTI3SDFYBGgOiAEBmAExuAEZyAEM2AEB6AEB-AEDiAIBqAIDuAKd_fCrBsACAdICJDY1YjVjZDFiLWE0NjEtNDNkMi1hZjBmLTkyNDJjOTBlODg1ZNgCBeACAQ&aid=304142&ucfs=1&arphpl=1&checkin=2025-01-23&checkout=2025-01-24&dest_id=-1989985&dest_type=city&group_adults=2&req_adults=2&no_rooms=1&group_children=0&req_children=0&hpos=6&hapos=6&sr_order=popularity&srpvid=bf6e91f079810120&srepoch=1702759523&all_sr_blocks=7011710_85042387_2_42_0&highlighted_blocks=7011710_85042387_2_42_0&matching_block_id=7011710_85042387_2_42_0&sr_pri_blocks=7011710_85042387_2_42_0__69500&from_sustainable_property_sr=1&from=searchresults#hotelTmpl', 'location': 'Altstadt, Salzburg', 'pricing': 'US$759', 'rating': '8.7Fabulous', 'review_count': '1,736', 'thumbnail': 'https://cf.bstatic.com/xdata/images/hotel/square200/246581650.jpg?k=0018748f329017ba6e8863b5fa59c7bfcc42bb3e68a088832a818d79a7c7272a&o='}, {'name': 'Goldgasse Apartments de Luxe', 'link': 'https://www.booking.com/hotel/at/goldgasse-apartments-de-luxe.en-gb.html?label=gen173nr-1FCAQoggJCC3JlZ2lvbl80MTI3SDFYBGgOiAEBmAExuAEZyAEM2AEB6AEB-AEDiAIBqAIDuAKd_fCrBsACAdICJDY1YjVjZDFiLWE0NjEtNDNkMi1hZjBmLTkyNDJjOTBlODg1ZNgCBeACAQ&aid=304142&ucfs=1&arphpl=1&checkin=2025-01-23&checkout=2025-01-24&dest_id=-1989985&dest_type=city&group_adults=2&req_adults=2&no_rooms=1&group_children=0&req_children=0&hpos=7&hapos=7&sr_order=popularity&srpvid=bf6e91f079810120&srepoch=1702759523&all_sr_blocks=706463303_295560446_2_0_0&highlighted_blocks=706463303_295560446_2_0_0&matching_block_id=706463303_295560446_2_0_0&sr_pri_blocks=706463303_295560446_2_0_0__18900&from=searchresults#hotelTmpl', 'location': 'Altstadt, Salzburg', 'pricing': 'US$206', 'rating': '8.9Fabulous', 'review_count': '101', 'thumbnail': 'https://cf.bstatic.com/xdata/images/hotel/square200/471496992.jpg?k=5e04b3e0db68fe0b21eb77a2f3650f56f9b970e1c8dddbd4351b05f482475802&o='}, {'name': 'Villa Elisa', 'link': 'https://www.booking.com/hotel/at/villa-elisa-salzburg.en-gb.html?label=gen173nr-1FCAQoggJCC3JlZ2lvbl80MTI3SDFYBGgOiAEBmAExuAEZyAEM2AEB6AEB-AEDiAIBqAIDuAKd_fCrBsACAdICJDY1YjVjZDFiLWE0NjEtNDNkMi1hZjBmLTkyNDJjOTBlODg1ZNgCBeACAQ&aid=304142&ucfs=1&arphpl=1&checkin=2025-01-23&checkout=2025-01-24&dest_id=-1989985&dest_type=city&group_adults=2&req_adults=2&no_rooms=1&group_children=0&req_children=0&hpos=8&hapos=8&sr_order=popularity&srpvid=bf6e91f079810120&srepoch=1702759523&all_sr_blocks=740375901_328838998_2_2_0&highlighted_blocks=740375901_328838998_2_2_0&matching_block_id=740375901_328838998_2_2_0&sr_pri_blocks=740375901_328838998_2_2_0__9880&from_sustainable_property_sr=1&from=searchresults#hotelTmpl', 'location': 'Elisabeth-Vorstadt, Salzburg', 'pricing': 'US$108', 'rating': '9.1Superb', 'review_count': '1,095', 'thumbnail': 'https://cf.bstatic.com/xdata/images/hotel/square200/321848126.jpg?k=e4aaad36d9a1737eee75ba6031a4e1faed84f5dee81d76fe2f49ed3a04c85871&o='}, {'name': 'MIRABELLE Homes', 'link': 'https://www.booking.com/hotel/at/studio-mane.en-gb.html?label=gen173nr-1FCAQoggJCC3JlZ2lvbl80MTI3SDFYBGgOiAEBmAExuAEZyAEM2AEB6AEB-AEDiAIBqAIDuAKd_fCrBsACAdICJDY1YjVjZDFiLWE0NjEtNDNkMi1hZjBmLTkyNDJjOTBlODg1ZNgCBeACAQ&aid=304142&ucfs=1&arphpl=1&checkin=2025-01-23&checkout=2025-01-24&dest_id=-1989985&dest_type=city&group_adults=2&req_adults=2&no_rooms=1&group_children=0&req_children=0&hpos=9&hapos=9&sr_order=popularity&srpvid=bf6e91f079810120&srepoch=1702759523&all_sr_blocks=1099157904_383174897_2_0_0&highlighted_blocks=1099157904_383174897_2_0_0&matching_block_id=1099157904_383174897_2_0_0&sr_pri_blocks=1099157904_383174897_2_0_0__11200&from_sustainable_property_sr=1&from=searchresults#hotelTmpl', 'location': 'Elisabeth-Vorstadt, Salzburg', 'pricing': 'US$122', 'rating': '10Exceptional', 'review_count': '2', 'thumbnail': 'https://cf.bstatic.com/xdata/images/hotel/square200/504042493.jpg?k=7c59a9e588ad5b173a97fa23634b4df238a90693206b09df47a88d5cee45cca2&o='}, {'name': 'Hotel Markus Sittikus Salzburg', 'link': 'https://www.booking.com/hotel/at/flairhotelmarkussittikus.en-gb.html?label=gen173nr-1FCAQoggJCC3JlZ2lvbl80MTI3SDFYBGgOiAEBmAExuAEZyAEM2AEB6AEB-AEDiAIBqAIDuAKd_fCrBsACAdICJDY1YjVjZDFiLWE0NjEtNDNkMi1hZjBmLTkyNDJjOTBlODg1ZNgCBeACAQ&aid=304142&ucfs=1&arphpl=1&checkin=2025-01-23&checkout=2025-01-24&dest_id=-1989985&dest_type=city&group_adults=2&req_adults=2&no_rooms=1&group_children=0&req_children=0&hpos=10&hapos=10&sr_order=popularity&srpvid=bf6e91f079810120&srepoch=1702759523&all_sr_blocks=7020902_369459973_2_2_0&highlighted_blocks=7020902_369459973_2_2_0&matching_block_id=7020902_369459973_2_2_0&sr_pri_blocks=7020902_369459973_2_2_0__18584&from_sustainable_property_sr=1&from=searchresults#hotelTmpl', 'location': 'Salzburg', 'pricing': 'US$203', 'rating': '8.1Very', 'review_count': 'good', 'thumbnail': 'https://cf.bstatic.com/xdata/images/hotel/square200/265120270.jpg?k=47318fa74917af7cb81395553dc2c98fc34b628831744ce73ef8879d7aca65d2&o='}, {'name': 'Parkhotel Brunauer', 'link': 'https://www.booking.com/hotel/at/parkhotel-brunauer.en-gb.html?label=gen173nr-1FCAQoggJCC3JlZ2lvbl80MTI3SDFYBGgOiAEBmAExuAEZyAEM2AEB6AEB-AEDiAIBqAIDuAKd_fCrBsACAdICJDY1YjVjZDFiLWE0NjEtNDNkMi1hZjBmLTkyNDJjOTBlODg1ZNgCBeACAQ&aid=304142&ucfs=1&arphpl=1&checkin=2025-01-23&checkout=2025-01-24&dest_id=-1989985&dest_type=city&group_adults=2&req_adults=2&no_rooms=1&group_children=0&req_children=0&hpos=11&hapos=11&sr_order=popularity&srpvid=bf6e91f079810120&srepoch=1702759523&all_sr_blocks=7365121_91906166_0_2_0&highlighted_blocks=7365121_91906166_0_2_0&matching_block_id=7365121_91906166_0_2_0&sr_pri_blocks=7365121_91906166_0_2_0__11260&from_sustainable_property_sr=1&from=searchresults#hotelTmpl', 'location': 'Elisabeth-Vorstadt, Salzburg', 'pricing': 'US$123', 'rating': '8.0Very', 'review_count': 'good', 'thumbnail': 'https://cf.bstatic.com/xdata/images/hotel/square200/264965970.jpg?k=b971df00bc2439c6ad7d3c7b6cff91ae3af93a4abb30f27e74bd80875d8fbf9a&o='}, {'name': 'Leonardo Hotel Salzburg Airport', 'link': 'https://www.booking.com/hotel/at/star-inn-salzburg-airport.en-gb.html?label=gen173nr-1FCAQoggJCC3JlZ2lvbl80MTI3SDFYBGgOiAEBmAExuAEZyAEM2AEB6AEB-AEDiAIBqAIDuAKd_fCrBsACAdICJDY1YjVjZDFiLWE0NjEtNDNkMi1hZjBmLTkyNDJjOTBlODg1ZNgCBeACAQ&aid=304142&ucfs=1&arphpl=1&checkin=2025-01-23&checkout=2025-01-24&dest_id=-1989985&dest_type=city&group_adults=2&req_adults=2&no_rooms=1&group_children=0&req_children=0&hpos=12&hapos=12&sr_order=popularity&srpvid=bf6e91f079810120&srepoch=1702759523&all_sr_blocks=7099315_88517030_0_2_0&highlighted_blocks=7099315_88517030_0_2_0&matching_block_id=7099315_88517030_0_2_0&sr_pri_blocks=7099315_88517030_0_2_0__8010&from=searchresults#hotelTmpl', 'location': 'Salzburg', 'pricing': 'US$87', 'rating': '7.8Good', 'review_count': '3,821', 'thumbnail': 'https://cf.bstatic.com/xdata/images/hotel/square200/484196714.jpg?k=eb257266fa44475f536f45a61b0081a60e920e4a6c681c75346d65fc279d4e65&o='}, {'name': 'COOL MAMA Salzburg', 'link': 'https://www.booking.com/hotel/at/cool-mama.en-gb.html?label=gen173nr-1FCAQoggJCC3JlZ2lvbl80MTI3SDFYBGgOiAEBmAExuAEZyAEM2AEB6AEB-AEDiAIBqAIDuAKd_fCrBsACAdICJDY1YjVjZDFiLWE0NjEtNDNkMi1hZjBmLTkyNDJjOTBlODg1ZNgCBeACAQ&aid=304142&ucfs=1&arphpl=1&checkin=2025-01-23&checkout=2025-01-24&dest_id=-1989985&dest_type=city&group_adults=2&req_adults=2&no_rooms=1&group_children=0&req_children=0&hpos=13&hapos=13&sr_order=popularity&srpvid=bf6e91f079810120&srepoch=1702759523&all_sr_blocks=205117101_94981247_0_2_0&highlighted_blocks=205117101_94981247_0_2_0&matching_block_id=205117101_94981247_0_2_0&sr_pri_blocks=205117101_94981247_0_2_0__13950&from_sustainable_property_sr=1&from=searchresults#hotelTmpl', 'location': 'Salzburg', 'pricing': 'US$152', 'rating': '8.8Fabulous', 'review_count': '4,473', 'thumbnail': 'https://cf.bstatic.com/xdata/images/hotel/square200/115711773.jpg?k=28c3acbb16430797eea1b291de01649d3dfff8eea0c6647c2ba3835c82b87bc6&o='}, {'name': 'morand I Apartments', 'link': 'https://www.booking.com/hotel/at/studio-velvet.en-gb.html?label=gen173nr-1FCAQoggJCC3JlZ2lvbl80MTI3SDFYBGgOiAEBmAExuAEZyAEM2AEB6AEB-AEDiAIBqAIDuAKd_fCrBsACAdICJDY1YjVjZDFiLWE0NjEtNDNkMi1hZjBmLTkyNDJjOTBlODg1ZNgCBeACAQ&aid=304142&ucfs=1&arphpl=1&checkin=2025-01-23&checkout=2025-01-24&dest_id=-1989985&dest_type=city&group_adults=2&req_adults=2&no_rooms=1&group_children=0&req_children=0&hpos=14&hapos=14&sr_order=popularity&srpvid=bf6e91f079810120&srepoch=1702759523&all_sr_blocks=1098990603_383174877_2_0_0&highlighted_blocks=1098990603_383174877_2_0_0&matching_block_id=1098990603_383174877_2_0_0&sr_pri_blocks=1098990603_383174877_2_0_0__11200&from_sustainable_property_sr=1&from=searchresults#hotelTmpl', 'location': 'Elisabeth-Vorstadt, Salzburg', 'pricing': 'US$122', 'rating': '9.2Superb', 'review_count': '13', 'thumbnail': 'https://cf.bstatic.com/xdata/images/hotel/square200/503777042.jpg?k=0b5bb55a1397afabb4444d8791bcb413111331d169e8db40012255ddb0ad9b5b&o='}, {'name': 'Hotel Zum Hirschen Salzburg', 'link': 'https://www.booking.com/hotel/at/zumhirschen.en-gb.html?label=gen173nr-1FCAQoggJCC3JlZ2lvbl80MTI3SDFYBGgOiAEBmAExuAEZyAEM2AEB6AEB-AEDiAIBqAIDuAKd_fCrBsACAdICJDY1YjVjZDFiLWE0NjEtNDNkMi1hZjBmLTkyNDJjOTBlODg1ZNgCBeACAQ&aid=304142&ucfs=1&arphpl=1&checkin=2025-01-23&checkout=2025-01-24&dest_id=-1989985&dest_type=city&group_adults=2&req_adults=2&no_rooms=1&group_children=0&req_children=0&hpos=15&hapos=15&sr_order=popularity&srpvid=bf6e91f079810120&srepoch=1702759523&all_sr_blocks=7011601_340055371_0_2_0&highlighted_blocks=7011601_340055371_0_2_0&matching_block_id=7011601_340055371_0_2_0&sr_pri_blocks=7011601_340055371_0_2_0__23100&from_sustainable_property_sr=1&from=searchresults#hotelTmpl', 'location': 'Elisabeth-Vorstadt, Salzburg', 'pricing': 'US$252', 'rating': '8.9Fabulous', 'review_count': '23', 'thumbnail': 'https://cf.bstatic.com/xdata/images/hotel/square200/490740792.jpg?k=1559b6955a0fe67eacf92e640cbd3180181ebb8abd18bc4df930a0f2b67bfce5&o='}, {'name': 'My Wonderland', 'link': 'https://www.booking.com/hotel/at/my-wonderland.en-gb.html?label=gen173nr-1FCAQoggJCC3JlZ2lvbl80MTI3SDFYBGgOiAEBmAExuAEZyAEM2AEB6AEB-AEDiAIBqAIDuAKd_fCrBsACAdICJDY1YjVjZDFiLWE0NjEtNDNkMi1hZjBmLTkyNDJjOTBlODg1ZNgCBeACAQ&aid=304142&ucfs=1&arphpl=1&checkin=2025-01-23&checkout=2025-01-24&dest_id=-1989985&dest_type=city&group_adults=2&req_adults=2&no_rooms=1&group_children=0&req_children=0&hpos=16&hapos=16&sr_order=popularity&srpvid=bf6e91f079810120&srepoch=1702759523&all_sr_blocks=199322501_380345073_2_0_0&highlighted_blocks=199322501_380345073_2_0_0&matching_block_id=199322501_380345073_2_0_0&sr_pri_blocks=199322501_380345073_2_0_0__33800&from=searchresults#hotelTmpl', 'location': 'Salzburg', 'pricing': 'US$369', 'rating': '9.5Exceptional', 'review_count': '110', 'thumbnail': 'https://cf.bstatic.com/xdata/images/hotel/square200/90054446.jpg?k=99557d2ae0a34013feb8a35f24f0a8bcbd2dae0e0ec3d50f6989025653463bc9&o='}, {'name': 'Easyapartments Altstadt 1', 'link': 'https://www.booking.com/hotel/at/salzburg-altstadt-1.en-gb.html?label=gen173nr-1FCAQoggJCC3JlZ2lvbl80MTI3SDFYBGgOiAEBmAExuAEZyAEM2AEB6AEB-AEDiAIBqAIDuAKd_fCrBsACAdICJDY1YjVjZDFiLWE0NjEtNDNkMi1hZjBmLTkyNDJjOTBlODg1ZNgCBeACAQ&aid=304142&ucfs=1&arphpl=1&checkin=2025-01-23&checkout=2025-01-24&dest_id=-1989985&dest_type=city&group_adults=2&req_adults=2&no_rooms=1&group_children=0&req_children=0&hpos=17&hapos=17&sr_order=popularity&srpvid=bf6e91f079810120&srepoch=1702759523&all_sr_blocks=79369802_100571736_2_0_0&highlighted_blocks=79369802_100571736_2_0_0&matching_block_id=79369802_100571736_2_0_0&sr_pri_blocks=79369802_100571736_2_0_0__10900&from=searchresults#hotelTmpl', 'location': 'Altstadt, Salzburg', 'pricing': 'US$119', 'rating': '8.5Very', 'review_count': 'good', 'thumbnail': 'https://cf.bstatic.com/xdata/images/hotel/square200/306634134.jpg?k=e1f43cd359d7c42d4f062a501099bd64892bc7de7e92fba5635ce79fc24e0f9c&o='}, {'name': 'Palais am Kai - Zentrale Lage, Kostenloser Parkplatz', 'link': 'https://www.booking.com/hotel/at/palais-am-kai-zentrale-lage-garagenparkplatz.en-gb.html?label=gen173nr-1FCAQoggJCC3JlZ2lvbl80MTI3SDFYBGgOiAEBmAExuAEZyAEM2AEB6AEB-AEDiAIBqAIDuAKd_fCrBsACAdICJDY1YjVjZDFiLWE0NjEtNDNkMi1hZjBmLTkyNDJjOTBlODg1ZNgCBeACAQ&aid=304142&ucfs=1&arphpl=1&checkin=2025-01-23&checkout=2025-01-24&dest_id=-1989985&dest_type=city&group_adults=2&req_adults=2&no_rooms=1&group_children=0&req_children=0&hpos=18&hapos=18&sr_order=popularity&srpvid=bf6e91f079810120&srepoch=1702759523&all_sr_blocks=1079734301_380566382_2_0_0&highlighted_blocks=1079734301_380566382_2_0_0&matching_block_id=1079734301_380566382_2_0_0&sr_pri_blocks=1079734301_380566382_2_0_0__22500&from_sustainable_property_sr=1&from=searchresults#hotelTmpl', 'location': 'Altstadt, Salzburg', 'pricing': 'US$246', 'rating': '9.5Exceptional', 'review_count': '26', 'thumbnail': 'https://cf.bstatic.com/xdata/images/hotel/square200/498376253.jpg?k=07ed8e13d8d7fc6cbc0a0389befabe9804609faa8bb77a50d8cecb9fb3263e9f&o='}, {'name': 'HOMEBOUND APARTMENTS Salzburg City I - contactless check-in', 'link': 'https://www.booking.com/hotel/at/eb-garni.en-gb.html?label=gen173nr-1FCAQoggJCC3JlZ2lvbl80MTI3SDFYBGgOiAEBmAExuAEZyAEM2AEB6AEB-AEDiAIBqAIDuAKd_fCrBsACAdICJDY1YjVjZDFiLWE0NjEtNDNkMi1hZjBmLTkyNDJjOTBlODg1ZNgCBeACAQ&aid=304142&ucfs=1&arphpl=1&checkin=2025-01-23&checkout=2025-01-24&dest_id=-1989985&dest_type=city&group_adults=2&req_adults=2&no_rooms=1&group_children=0&req_children=0&hpos=19&hapos=19&sr_order=popularity&srpvid=bf6e91f079810120&srepoch=1702759523&all_sr_blocks=23802407_353577902_0_0_0&highlighted_blocks=23802407_353577902_0_0_0&matching_block_id=23802407_353577902_0_0_0&sr_pri_blocks=23802407_353577902_0_0_0__57750&from_sustainable_property_sr=1&from=searchresults#hotelTmpl', 'location': 'Salzburg', 'pricing': 'US$630', 'rating': '9.1Superb', 'review_count': '512', 'thumbnail': 'https://cf.bstatic.com/xdata/images/hotel/square200/315346806.jpg?k=20878c7d22678f2135279adfe538d91b0a1a5134b4911e3d4d3937ce7903e993&o='}, {'name': 'Easyapartments Riverside', 'link': 'https://www.booking.com/hotel/at/salzburg-riverside.en-gb.html?label=gen173nr-1FCAQoggJCC3JlZ2lvbl80MTI3SDFYBGgOiAEBmAExuAEZyAEM2AEB6AEB-AEDiAIBqAIDuAKd_fCrBsACAdICJDY1YjVjZDFiLWE0NjEtNDNkMi1hZjBmLTkyNDJjOTBlODg1ZNgCBeACAQ&aid=304142&ucfs=1&arphpl=1&checkin=2025-01-23&checkout=2025-01-24&dest_id=-1989985&dest_type=city&group_adults=2&req_adults=2&no_rooms=1&group_children=0&req_children=0&hpos=20&hapos=20&sr_order=popularity&srpvid=bf6e91f079810120&srepoch=1702759523&all_sr_blocks=79392202_100571977_2_0_0&highlighted_blocks=79392202_100571977_2_0_0&matching_block_id=79392202_100571977_2_0_0&sr_pri_blocks=79392202_100571977_2_0_0__16435&from_sustainable_property_sr=1&from=searchresults#hotelTmpl', 'location': 'Lehen, Salzburg', 'pricing': 'US$179', 'rating': '8.9Fabulous', 'review_count': '213', 'thumbnail': 'https://cf.bstatic.com/xdata/images/hotel/square200/326055623.jpg?k=1eb342ce437e15c4125c6e3787cbe1ea9de7804fac90d752ed963092e55eb390&o='}, {'name': 'The City Appartment', 'link': 'https://www.booking.com/hotel/at/the-city-appartment.en-gb.html?label=gen173nr-1FCAQoggJCC3JlZ2lvbl80MTI3SDFYBGgOiAEBmAExuAEZyAEM2AEB6AEB-AEDiAIBqAIDuAKd_fCrBsACAdICJDY1YjVjZDFiLWE0NjEtNDNkMi1hZjBmLTkyNDJjOTBlODg1ZNgCBeACAQ&aid=304142&ucfs=1&arphpl=1&checkin=2025-01-23&checkout=2025-01-24&dest_id=-1989985&dest_type=city&group_adults=2&req_adults=2&no_rooms=1&group_children=0&req_children=0&hpos=21&hapos=21&sr_order=popularity&srpvid=bf6e91f079810120&srepoch=1702759523&all_sr_blocks=422227101_179427418_6_0_0&highlighted_blocks=422227101_179427418_6_0_0&matching_block_id=422227101_179427418_6_0_0&sr_pri_blocks=422227101_179427418_6_0_0__30000&from=searchresults#hotelTmpl', 'location': 'Salzburg', 'pricing': 'US$327', 'rating': '4.8Review', 'review_count': 'score', 'thumbnail': 'https://cf.bstatic.com/xdata/images/hotel/square200/503212018.jpg?k=eea86fa06d88857baef2b6f7db1fd3fbf24f780ad1929fffecbfdac6ecf8c3e8&o='}, {'name': 'Studio Nonntal', 'link': 'https://www.booking.com/hotel/at/studio-salzburg1.en-gb.html?label=gen173nr-1FCAQoggJCC3JlZ2lvbl80MTI3SDFYBGgOiAEBmAExuAEZyAEM2AEB6AEB-AEDiAIBqAIDuAKd_fCrBsACAdICJDY1YjVjZDFiLWE0NjEtNDNkMi1hZjBmLTkyNDJjOTBlODg1ZNgCBeACAQ&aid=304142&ucfs=1&arphpl=1&checkin=2025-01-23&checkout=2025-01-24&dest_id=-1989985&dest_type=city&group_adults=2&req_adults=2&no_rooms=1&group_children=0&req_children=0&hpos=22&hapos=22&sr_order=popularity&srpvid=bf6e91f079810120&srepoch=1702759523&all_sr_blocks=1070153901_379532927_2_0_0&highlighted_blocks=1070153901_379532927_2_0_0&matching_block_id=1070153901_379532927_2_0_0&sr_pri_blocks=1070153901_379532927_2_0_0__15900&from=searchresults#hotelTmpl', 'location': 'Altstadt, Salzburg', 'pricing': 'US$174', 'rating': '4.0Review', 'review_count': 'score', 'thumbnail': 'https://cf.bstatic.com/xdata/images/hotel/square200/489174203.jpg?k=fe87cbe1f7b683e75f3717aa243576c91086ab5e274ca5bfd05f299732756510&o='}, {'name': 'Bauernappartement mit Balkon', 'link': 'https://www.booking.com/hotel/at/bauernappartement-mit-balkon.en-gb.html?label=gen173nr-1FCAQoggJCC3JlZ2lvbl80MTI3SDFYBGgOiAEBmAExuAEZyAEM2AEB6AEB-AEDiAIBqAIDuAKd_fCrBsACAdICJDY1YjVjZDFiLWE0NjEtNDNkMi1hZjBmLTkyNDJjOTBlODg1ZNgCBeACAQ&aid=304142&ucfs=1&arphpl=1&checkin=2025-01-23&checkout=2025-01-24&dest_id=-1989985&dest_type=city&group_adults=2&req_adults=2&no_rooms=1&group_children=0&req_children=0&hpos=23&hapos=23&sr_order=popularity&srpvid=bf6e91f079810120&srepoch=1702759523&all_sr_blocks=1070317101_379546253_2_0_0&highlighted_blocks=1070317101_379546253_2_0_0&matching_block_id=1070317101_379546253_2_0_0&sr_pri_blocks=1070317101_379546253_2_0_0__17900&from=searchresults#hotelTmpl', 'location': 'Altstadt, Salzburg', 'pricing': 'US$195', 'rating': '2.0Review', 'review_count': 'score', 'thumbnail': 'https://cf.bstatic.com/xdata/images/hotel/square200/489244787.jpg?k=4889e0d63df36393a072c44549a83c11843ca2f0511ab20a6c1f628fe341b971&o='}, {'name': 'Studio mit Gartenterrasse', 'link': 'https://www.booking.com/hotel/at/studio-mit-terasse.en-gb.html?label=gen173nr-1FCAQoggJCC3JlZ2lvbl80MTI3SDFYBGgOiAEBmAExuAEZyAEM2AEB6AEB-AEDiAIBqAIDuAKd_fCrBsACAdICJDY1YjVjZDFiLWE0NjEtNDNkMi1hZjBmLTkyNDJjOTBlODg1ZNgCBeACAQ&aid=304142&ucfs=1&arphpl=1&checkin=2025-01-23&checkout=2025-01-24&dest_id=-1989985&dest_type=city&group_adults=2&req_adults=2&no_rooms=1&group_children=0&req_children=0&hpos=24&hapos=24&sr_order=popularity&srpvid=bf6e91f079810120&srepoch=1702759523&all_sr_blocks=1068363201_379312024_2_0_0&highlighted_blocks=1068363201_379312024_2_0_0&matching_block_id=1068363201_379312024_2_0_0&sr_pri_blocks=1068363201_379312024_2_0_0__12900&from_sustainable_property_sr=1&from=searchresults#hotelTmpl', 'location': 'Altstadt, Salzburg', 'pricing': 'US$141', 'rating': '5.3Review', 'review_count': 'score', 'thumbnail': 'https://cf.bstatic.com/xdata/images/hotel/square200/488303625.jpg?k=a03ecec6b1d3a01c59dd1e20777590fc3c1f5bca3e85d0657005be16d4732f44&o='}]\n"
          ]
        }
      ]
    },
    {
      "cell_type": "code",
      "source": [
        "# convert the metadata of the 1st SRP to dataframe\n",
        "dataframe=pd.DataFrame(hotel_results, columns=['name','link','location','pricing','rating', 'review_count', 'thumbnail'])\n",
        "print (dataframe)\n",
        "dataframe.to_csv('out.csv')"
      ],
      "metadata": {
        "colab": {
          "base_uri": "https://localhost:8080/"
        },
        "id": "91fNFGcuQh-7",
        "outputId": "0ee7b658-d3bf-479a-9124-05e7a530bb52"
      },
      "execution_count": 13,
      "outputs": [
        {
          "output_type": "stream",
          "name": "stdout",
          "text": [
            "                                                 name  \\\n",
            "0                                Atel Hotel Lasserhof   \n",
            "1         Leonardo Boutique Hotel Salzburg Gablerbräu   \n",
            "2                            Altstadt Hotel Stadtkrug   \n",
            "3                              Hotel Bristol Salzburg   \n",
            "4                     Altstadt Hotel Hofwirt Salzburg   \n",
            "5                         Radisson Blu Hotel Altstadt   \n",
            "6                        Goldgasse Apartments de Luxe   \n",
            "7                                         Villa Elisa   \n",
            "8                                     MIRABELLE Homes   \n",
            "9                      Hotel Markus Sittikus Salzburg   \n",
            "10                                 Parkhotel Brunauer   \n",
            "11                    Leonardo Hotel Salzburg Airport   \n",
            "12                                 COOL MAMA Salzburg   \n",
            "13                                morand I Apartments   \n",
            "14                        Hotel Zum Hirschen Salzburg   \n",
            "15                                      My Wonderland   \n",
            "16                          Easyapartments Altstadt 1   \n",
            "17  Palais am Kai - Zentrale Lage, Kostenloser Par...   \n",
            "18  HOMEBOUND APARTMENTS Salzburg City I - contact...   \n",
            "19                           Easyapartments Riverside   \n",
            "20                                The City Appartment   \n",
            "21                                     Studio Nonntal   \n",
            "22                       Bauernappartement mit Balkon   \n",
            "23                          Studio mit Gartenterrasse   \n",
            "\n",
            "                                                 link  \\\n",
            "0   https://www.booking.com/hotel/at/hotellasserho...   \n",
            "1   https://www.booking.com/hotel/at/star-inn-salz...   \n",
            "2   https://www.booking.com/hotel/at/stadtkrug.en-...   \n",
            "3   https://www.booking.com/hotel/at/hotelbristols...   \n",
            "4   https://www.booking.com/hotel/at/hofwirt.en-gb...   \n",
            "5   https://www.booking.com/hotel/at/hotelaltstadt...   \n",
            "6   https://www.booking.com/hotel/at/goldgasse-apa...   \n",
            "7   https://www.booking.com/hotel/at/villa-elisa-s...   \n",
            "8   https://www.booking.com/hotel/at/studio-mane.e...   \n",
            "9   https://www.booking.com/hotel/at/flairhotelmar...   \n",
            "10  https://www.booking.com/hotel/at/parkhotel-bru...   \n",
            "11  https://www.booking.com/hotel/at/star-inn-salz...   \n",
            "12  https://www.booking.com/hotel/at/cool-mama.en-...   \n",
            "13  https://www.booking.com/hotel/at/studio-velvet...   \n",
            "14  https://www.booking.com/hotel/at/zumhirschen.e...   \n",
            "15  https://www.booking.com/hotel/at/my-wonderland...   \n",
            "16  https://www.booking.com/hotel/at/salzburg-alts...   \n",
            "17  https://www.booking.com/hotel/at/palais-am-kai...   \n",
            "18  https://www.booking.com/hotel/at/eb-garni.en-g...   \n",
            "19  https://www.booking.com/hotel/at/salzburg-rive...   \n",
            "20  https://www.booking.com/hotel/at/the-city-appa...   \n",
            "21  https://www.booking.com/hotel/at/studio-salzbu...   \n",
            "22  https://www.booking.com/hotel/at/bauernapparte...   \n",
            "23  https://www.booking.com/hotel/at/studio-mit-te...   \n",
            "\n",
            "                        location pricing          rating review_count  \\\n",
            "0                       Salzburg   US$90         7.3Good        3,101   \n",
            "1             Altstadt, Salzburg  US$122         8.3Very         good   \n",
            "2             Altstadt, Salzburg  US$271         8.4Very         good   \n",
            "3             Altstadt, Salzburg  US$726     8.9Fabulous          894   \n",
            "4                       Salzburg  US$213         8.3Very         good   \n",
            "5             Altstadt, Salzburg  US$759     8.7Fabulous        1,736   \n",
            "6             Altstadt, Salzburg  US$206     8.9Fabulous          101   \n",
            "7   Elisabeth-Vorstadt, Salzburg  US$108       9.1Superb        1,095   \n",
            "8   Elisabeth-Vorstadt, Salzburg  US$122   10Exceptional            2   \n",
            "9                       Salzburg  US$203         8.1Very         good   \n",
            "10  Elisabeth-Vorstadt, Salzburg  US$123         8.0Very         good   \n",
            "11                      Salzburg   US$87         7.8Good        3,821   \n",
            "12                      Salzburg  US$152     8.8Fabulous        4,473   \n",
            "13  Elisabeth-Vorstadt, Salzburg  US$122       9.2Superb           13   \n",
            "14  Elisabeth-Vorstadt, Salzburg  US$252     8.9Fabulous           23   \n",
            "15                      Salzburg  US$369  9.5Exceptional          110   \n",
            "16            Altstadt, Salzburg  US$119         8.5Very         good   \n",
            "17            Altstadt, Salzburg  US$246  9.5Exceptional           26   \n",
            "18                      Salzburg  US$630       9.1Superb          512   \n",
            "19               Lehen, Salzburg  US$179     8.9Fabulous          213   \n",
            "20                      Salzburg  US$327       4.8Review        score   \n",
            "21            Altstadt, Salzburg  US$174       4.0Review        score   \n",
            "22            Altstadt, Salzburg  US$195       2.0Review        score   \n",
            "23            Altstadt, Salzburg  US$141       5.3Review        score   \n",
            "\n",
            "                                            thumbnail  \n",
            "0   https://cf.bstatic.com/xdata/images/hotel/squa...  \n",
            "1   https://cf.bstatic.com/xdata/images/hotel/squa...  \n",
            "2   https://cf.bstatic.com/xdata/images/hotel/squa...  \n",
            "3   https://cf.bstatic.com/xdata/images/hotel/squa...  \n",
            "4   https://cf.bstatic.com/xdata/images/hotel/squa...  \n",
            "5   https://cf.bstatic.com/xdata/images/hotel/squa...  \n",
            "6   https://cf.bstatic.com/xdata/images/hotel/squa...  \n",
            "7   https://cf.bstatic.com/xdata/images/hotel/squa...  \n",
            "8   https://cf.bstatic.com/xdata/images/hotel/squa...  \n",
            "9   https://cf.bstatic.com/xdata/images/hotel/squa...  \n",
            "10  https://cf.bstatic.com/xdata/images/hotel/squa...  \n",
            "11  https://cf.bstatic.com/xdata/images/hotel/squa...  \n",
            "12  https://cf.bstatic.com/xdata/images/hotel/squa...  \n",
            "13  https://cf.bstatic.com/xdata/images/hotel/squa...  \n",
            "14  https://cf.bstatic.com/xdata/images/hotel/squa...  \n",
            "15  https://cf.bstatic.com/xdata/images/hotel/squa...  \n",
            "16  https://cf.bstatic.com/xdata/images/hotel/squa...  \n",
            "17  https://cf.bstatic.com/xdata/images/hotel/squa...  \n",
            "18  https://cf.bstatic.com/xdata/images/hotel/squa...  \n",
            "19  https://cf.bstatic.com/xdata/images/hotel/squa...  \n",
            "20  https://cf.bstatic.com/xdata/images/hotel/squa...  \n",
            "21  https://cf.bstatic.com/xdata/images/hotel/squa...  \n",
            "22  https://cf.bstatic.com/xdata/images/hotel/squa...  \n",
            "23  https://cf.bstatic.com/xdata/images/hotel/squa...  \n"
          ]
        }
      ]
    },
    {
      "cell_type": "code",
      "source": [
        "dataframe.head()"
      ],
      "metadata": {
        "colab": {
          "base_uri": "https://localhost:8080/",
          "height": 417
        },
        "id": "x7OxX168bFut",
        "outputId": "cc08d0a4-5854-4cd5-8644-2824573fd609"
      },
      "execution_count": null,
      "outputs": [
        {
          "output_type": "execute_result",
          "data": {
            "text/plain": [
              "                                          name  \\\n",
              "0                         Atel Hotel Lasserhof   \n",
              "1                                  Villa Elisa   \n",
              "2  Leonardo Boutique Hotel Salzburg Gablerbräu   \n",
              "3                     Altstadt Hotel Stadtkrug   \n",
              "4                       Hotel Bristol Salzburg   \n",
              "\n",
              "                                                link  \\\n",
              "0  https://www.booking.com/hotel/at/hotellasserho...   \n",
              "1  https://www.booking.com/hotel/at/villa-elisa-s...   \n",
              "2  https://www.booking.com/hotel/at/star-inn-salz...   \n",
              "3  https://www.booking.com/hotel/at/stadtkrug.en-...   \n",
              "4  https://www.booking.com/hotel/at/hotelbristols...   \n",
              "\n",
              "                       location pricing       rating review_count  \\\n",
              "0                      Salzburg   US$91      7.3Good        3,097   \n",
              "1  Elisabeth-Vorstadt, Salzburg  US$109    9.1Superb        1,092   \n",
              "2            Altstadt, Salzburg  US$123      8.3Very         good   \n",
              "3            Altstadt, Salzburg  US$273      8.4Very         good   \n",
              "4            Altstadt, Salzburg  US$731  8.9Fabulous          894   \n",
              "\n",
              "                                           thumbnail  \n",
              "0  https://cf.bstatic.com/xdata/images/hotel/squa...  \n",
              "1  https://cf.bstatic.com/xdata/images/hotel/squa...  \n",
              "2  https://cf.bstatic.com/xdata/images/hotel/squa...  \n",
              "3  https://cf.bstatic.com/xdata/images/hotel/squa...  \n",
              "4  https://cf.bstatic.com/xdata/images/hotel/squa...  "
            ],
            "text/html": [
              "\n",
              "  <div id=\"df-8693a8ef-c41d-4aeb-801c-1ccc99e7576f\" class=\"colab-df-container\">\n",
              "    <div>\n",
              "<style scoped>\n",
              "    .dataframe tbody tr th:only-of-type {\n",
              "        vertical-align: middle;\n",
              "    }\n",
              "\n",
              "    .dataframe tbody tr th {\n",
              "        vertical-align: top;\n",
              "    }\n",
              "\n",
              "    .dataframe thead th {\n",
              "        text-align: right;\n",
              "    }\n",
              "</style>\n",
              "<table border=\"1\" class=\"dataframe\">\n",
              "  <thead>\n",
              "    <tr style=\"text-align: right;\">\n",
              "      <th></th>\n",
              "      <th>name</th>\n",
              "      <th>link</th>\n",
              "      <th>location</th>\n",
              "      <th>pricing</th>\n",
              "      <th>rating</th>\n",
              "      <th>review_count</th>\n",
              "      <th>thumbnail</th>\n",
              "    </tr>\n",
              "  </thead>\n",
              "  <tbody>\n",
              "    <tr>\n",
              "      <th>0</th>\n",
              "      <td>Atel Hotel Lasserhof</td>\n",
              "      <td>https://www.booking.com/hotel/at/hotellasserho...</td>\n",
              "      <td>Salzburg</td>\n",
              "      <td>US$91</td>\n",
              "      <td>7.3Good</td>\n",
              "      <td>3,097</td>\n",
              "      <td>https://cf.bstatic.com/xdata/images/hotel/squa...</td>\n",
              "    </tr>\n",
              "    <tr>\n",
              "      <th>1</th>\n",
              "      <td>Villa Elisa</td>\n",
              "      <td>https://www.booking.com/hotel/at/villa-elisa-s...</td>\n",
              "      <td>Elisabeth-Vorstadt, Salzburg</td>\n",
              "      <td>US$109</td>\n",
              "      <td>9.1Superb</td>\n",
              "      <td>1,092</td>\n",
              "      <td>https://cf.bstatic.com/xdata/images/hotel/squa...</td>\n",
              "    </tr>\n",
              "    <tr>\n",
              "      <th>2</th>\n",
              "      <td>Leonardo Boutique Hotel Salzburg Gablerbräu</td>\n",
              "      <td>https://www.booking.com/hotel/at/star-inn-salz...</td>\n",
              "      <td>Altstadt, Salzburg</td>\n",
              "      <td>US$123</td>\n",
              "      <td>8.3Very</td>\n",
              "      <td>good</td>\n",
              "      <td>https://cf.bstatic.com/xdata/images/hotel/squa...</td>\n",
              "    </tr>\n",
              "    <tr>\n",
              "      <th>3</th>\n",
              "      <td>Altstadt Hotel Stadtkrug</td>\n",
              "      <td>https://www.booking.com/hotel/at/stadtkrug.en-...</td>\n",
              "      <td>Altstadt, Salzburg</td>\n",
              "      <td>US$273</td>\n",
              "      <td>8.4Very</td>\n",
              "      <td>good</td>\n",
              "      <td>https://cf.bstatic.com/xdata/images/hotel/squa...</td>\n",
              "    </tr>\n",
              "    <tr>\n",
              "      <th>4</th>\n",
              "      <td>Hotel Bristol Salzburg</td>\n",
              "      <td>https://www.booking.com/hotel/at/hotelbristols...</td>\n",
              "      <td>Altstadt, Salzburg</td>\n",
              "      <td>US$731</td>\n",
              "      <td>8.9Fabulous</td>\n",
              "      <td>894</td>\n",
              "      <td>https://cf.bstatic.com/xdata/images/hotel/squa...</td>\n",
              "    </tr>\n",
              "  </tbody>\n",
              "</table>\n",
              "</div>\n",
              "    <div class=\"colab-df-buttons\">\n",
              "\n",
              "  <div class=\"colab-df-container\">\n",
              "    <button class=\"colab-df-convert\" onclick=\"convertToInteractive('df-8693a8ef-c41d-4aeb-801c-1ccc99e7576f')\"\n",
              "            title=\"Convert this dataframe to an interactive table.\"\n",
              "            style=\"display:none;\">\n",
              "\n",
              "  <svg xmlns=\"http://www.w3.org/2000/svg\" height=\"24px\" viewBox=\"0 -960 960 960\">\n",
              "    <path d=\"M120-120v-720h720v720H120Zm60-500h600v-160H180v160Zm220 220h160v-160H400v160Zm0 220h160v-160H400v160ZM180-400h160v-160H180v160Zm440 0h160v-160H620v160ZM180-180h160v-160H180v160Zm440 0h160v-160H620v160Z\"/>\n",
              "  </svg>\n",
              "    </button>\n",
              "\n",
              "  <style>\n",
              "    .colab-df-container {\n",
              "      display:flex;\n",
              "      gap: 12px;\n",
              "    }\n",
              "\n",
              "    .colab-df-convert {\n",
              "      background-color: #E8F0FE;\n",
              "      border: none;\n",
              "      border-radius: 50%;\n",
              "      cursor: pointer;\n",
              "      display: none;\n",
              "      fill: #1967D2;\n",
              "      height: 32px;\n",
              "      padding: 0 0 0 0;\n",
              "      width: 32px;\n",
              "    }\n",
              "\n",
              "    .colab-df-convert:hover {\n",
              "      background-color: #E2EBFA;\n",
              "      box-shadow: 0px 1px 2px rgba(60, 64, 67, 0.3), 0px 1px 3px 1px rgba(60, 64, 67, 0.15);\n",
              "      fill: #174EA6;\n",
              "    }\n",
              "\n",
              "    .colab-df-buttons div {\n",
              "      margin-bottom: 4px;\n",
              "    }\n",
              "\n",
              "    [theme=dark] .colab-df-convert {\n",
              "      background-color: #3B4455;\n",
              "      fill: #D2E3FC;\n",
              "    }\n",
              "\n",
              "    [theme=dark] .colab-df-convert:hover {\n",
              "      background-color: #434B5C;\n",
              "      box-shadow: 0px 1px 3px 1px rgba(0, 0, 0, 0.15);\n",
              "      filter: drop-shadow(0px 1px 2px rgba(0, 0, 0, 0.3));\n",
              "      fill: #FFFFFF;\n",
              "    }\n",
              "  </style>\n",
              "\n",
              "    <script>\n",
              "      const buttonEl =\n",
              "        document.querySelector('#df-8693a8ef-c41d-4aeb-801c-1ccc99e7576f button.colab-df-convert');\n",
              "      buttonEl.style.display =\n",
              "        google.colab.kernel.accessAllowed ? 'block' : 'none';\n",
              "\n",
              "      async function convertToInteractive(key) {\n",
              "        const element = document.querySelector('#df-8693a8ef-c41d-4aeb-801c-1ccc99e7576f');\n",
              "        const dataTable =\n",
              "          await google.colab.kernel.invokeFunction('convertToInteractive',\n",
              "                                                    [key], {});\n",
              "        if (!dataTable) return;\n",
              "\n",
              "        const docLinkHtml = 'Like what you see? Visit the ' +\n",
              "          '<a target=\"_blank\" href=https://colab.research.google.com/notebooks/data_table.ipynb>data table notebook</a>'\n",
              "          + ' to learn more about interactive tables.';\n",
              "        element.innerHTML = '';\n",
              "        dataTable['output_type'] = 'display_data';\n",
              "        await google.colab.output.renderOutput(dataTable, element);\n",
              "        const docLink = document.createElement('div');\n",
              "        docLink.innerHTML = docLinkHtml;\n",
              "        element.appendChild(docLink);\n",
              "      }\n",
              "    </script>\n",
              "  </div>\n",
              "\n",
              "\n",
              "<div id=\"df-a06e9809-0c16-431c-8d2b-77c6b848f801\">\n",
              "  <button class=\"colab-df-quickchart\" onclick=\"quickchart('df-a06e9809-0c16-431c-8d2b-77c6b848f801')\"\n",
              "            title=\"Suggest charts\"\n",
              "            style=\"display:none;\">\n",
              "\n",
              "<svg xmlns=\"http://www.w3.org/2000/svg\" height=\"24px\"viewBox=\"0 0 24 24\"\n",
              "     width=\"24px\">\n",
              "    <g>\n",
              "        <path d=\"M19 3H5c-1.1 0-2 .9-2 2v14c0 1.1.9 2 2 2h14c1.1 0 2-.9 2-2V5c0-1.1-.9-2-2-2zM9 17H7v-7h2v7zm4 0h-2V7h2v10zm4 0h-2v-4h2v4z\"/>\n",
              "    </g>\n",
              "</svg>\n",
              "  </button>\n",
              "\n",
              "<style>\n",
              "  .colab-df-quickchart {\n",
              "      --bg-color: #E8F0FE;\n",
              "      --fill-color: #1967D2;\n",
              "      --hover-bg-color: #E2EBFA;\n",
              "      --hover-fill-color: #174EA6;\n",
              "      --disabled-fill-color: #AAA;\n",
              "      --disabled-bg-color: #DDD;\n",
              "  }\n",
              "\n",
              "  [theme=dark] .colab-df-quickchart {\n",
              "      --bg-color: #3B4455;\n",
              "      --fill-color: #D2E3FC;\n",
              "      --hover-bg-color: #434B5C;\n",
              "      --hover-fill-color: #FFFFFF;\n",
              "      --disabled-bg-color: #3B4455;\n",
              "      --disabled-fill-color: #666;\n",
              "  }\n",
              "\n",
              "  .colab-df-quickchart {\n",
              "    background-color: var(--bg-color);\n",
              "    border: none;\n",
              "    border-radius: 50%;\n",
              "    cursor: pointer;\n",
              "    display: none;\n",
              "    fill: var(--fill-color);\n",
              "    height: 32px;\n",
              "    padding: 0;\n",
              "    width: 32px;\n",
              "  }\n",
              "\n",
              "  .colab-df-quickchart:hover {\n",
              "    background-color: var(--hover-bg-color);\n",
              "    box-shadow: 0 1px 2px rgba(60, 64, 67, 0.3), 0 1px 3px 1px rgba(60, 64, 67, 0.15);\n",
              "    fill: var(--button-hover-fill-color);\n",
              "  }\n",
              "\n",
              "  .colab-df-quickchart-complete:disabled,\n",
              "  .colab-df-quickchart-complete:disabled:hover {\n",
              "    background-color: var(--disabled-bg-color);\n",
              "    fill: var(--disabled-fill-color);\n",
              "    box-shadow: none;\n",
              "  }\n",
              "\n",
              "  .colab-df-spinner {\n",
              "    border: 2px solid var(--fill-color);\n",
              "    border-color: transparent;\n",
              "    border-bottom-color: var(--fill-color);\n",
              "    animation:\n",
              "      spin 1s steps(1) infinite;\n",
              "  }\n",
              "\n",
              "  @keyframes spin {\n",
              "    0% {\n",
              "      border-color: transparent;\n",
              "      border-bottom-color: var(--fill-color);\n",
              "      border-left-color: var(--fill-color);\n",
              "    }\n",
              "    20% {\n",
              "      border-color: transparent;\n",
              "      border-left-color: var(--fill-color);\n",
              "      border-top-color: var(--fill-color);\n",
              "    }\n",
              "    30% {\n",
              "      border-color: transparent;\n",
              "      border-left-color: var(--fill-color);\n",
              "      border-top-color: var(--fill-color);\n",
              "      border-right-color: var(--fill-color);\n",
              "    }\n",
              "    40% {\n",
              "      border-color: transparent;\n",
              "      border-right-color: var(--fill-color);\n",
              "      border-top-color: var(--fill-color);\n",
              "    }\n",
              "    60% {\n",
              "      border-color: transparent;\n",
              "      border-right-color: var(--fill-color);\n",
              "    }\n",
              "    80% {\n",
              "      border-color: transparent;\n",
              "      border-right-color: var(--fill-color);\n",
              "      border-bottom-color: var(--fill-color);\n",
              "    }\n",
              "    90% {\n",
              "      border-color: transparent;\n",
              "      border-bottom-color: var(--fill-color);\n",
              "    }\n",
              "  }\n",
              "</style>\n",
              "\n",
              "  <script>\n",
              "    async function quickchart(key) {\n",
              "      const quickchartButtonEl =\n",
              "        document.querySelector('#' + key + ' button');\n",
              "      quickchartButtonEl.disabled = true;  // To prevent multiple clicks.\n",
              "      quickchartButtonEl.classList.add('colab-df-spinner');\n",
              "      try {\n",
              "        const charts = await google.colab.kernel.invokeFunction(\n",
              "            'suggestCharts', [key], {});\n",
              "      } catch (error) {\n",
              "        console.error('Error during call to suggestCharts:', error);\n",
              "      }\n",
              "      quickchartButtonEl.classList.remove('colab-df-spinner');\n",
              "      quickchartButtonEl.classList.add('colab-df-quickchart-complete');\n",
              "    }\n",
              "    (() => {\n",
              "      let quickchartButtonEl =\n",
              "        document.querySelector('#df-a06e9809-0c16-431c-8d2b-77c6b848f801 button');\n",
              "      quickchartButtonEl.style.display =\n",
              "        google.colab.kernel.accessAllowed ? 'block' : 'none';\n",
              "    })();\n",
              "  </script>\n",
              "</div>\n",
              "    </div>\n",
              "  </div>\n"
            ]
          },
          "metadata": {},
          "execution_count": 154
        }
      ]
    },
    {
      "cell_type": "code",
      "source": [
        "dataframe.info()"
      ],
      "metadata": {
        "colab": {
          "base_uri": "https://localhost:8080/"
        },
        "id": "kAyuRqoibO2q",
        "outputId": "943c8906-cdea-4110-e873-409563245bbc"
      },
      "execution_count": null,
      "outputs": [
        {
          "output_type": "stream",
          "name": "stdout",
          "text": [
            "<class 'pandas.core.frame.DataFrame'>\n",
            "RangeIndex: 22 entries, 0 to 21\n",
            "Data columns (total 7 columns):\n",
            " #   Column        Non-Null Count  Dtype \n",
            "---  ------        --------------  ----- \n",
            " 0   name          22 non-null     object\n",
            " 1   link          22 non-null     object\n",
            " 2   location      22 non-null     object\n",
            " 3   pricing       22 non-null     object\n",
            " 4   rating        22 non-null     object\n",
            " 5   review_count  22 non-null     object\n",
            " 6   thumbnail     22 non-null     object\n",
            "dtypes: object(7)\n",
            "memory usage: 1.3+ KB\n"
          ]
        }
      ]
    },
    {
      "cell_type": "code",
      "source": [
        "print(dataframe[\"rating\"].unique())"
      ],
      "metadata": {
        "colab": {
          "base_uri": "https://localhost:8080/"
        },
        "id": "JJ-OKRGBc0cn",
        "outputId": "b3984802-8699-4f49-967f-0b1941dad177"
      },
      "execution_count": null,
      "outputs": [
        {
          "output_type": "stream",
          "name": "stdout",
          "text": [
            "['7.3Good' '9.1Superb' '8.3Very' '8.4Very' '8.9Fabulous' '8.7Fabulous'\n",
            " '8.1Very' '10Exceptional' '7.8Good' '8.8Fabulous' '9.2Superb'\n",
            " '9.5Exceptional' '8.5Very' '4.0Review' '4.8Review' '2.0Review']\n"
          ]
        }
      ]
    },
    {
      "cell_type": "code",
      "source": [
        "# replace the unique rating values by fewer unique categories\n",
        "dataframe['rating'] = dataframe['rating'].str.replace('2.0Review','2')\n",
        "dataframe['rating'] = dataframe['rating'].str.replace('7.3Good','7')\n",
        "dataframe['rating'] = dataframe['rating'].str.replace('9.1Superb','9')\n",
        "dataframe['rating'] = dataframe['rating'].str.replace('8.3Very','8')\n",
        "dataframe['rating'] = dataframe['rating'].str.replace('8.4Very','8')\n",
        "dataframe['rating'] = dataframe['rating'].str.replace('8.9Fabulous','8')\n",
        "dataframe['rating'] = dataframe['rating'].str.replace('8.7Fabulous','8')\n",
        "dataframe['rating'] = dataframe['rating'].str.replace('8.1Very','8')\n",
        "dataframe['rating'] = dataframe['rating'].str.replace('8.0Very','8')\n",
        "dataframe['rating'] = dataframe['rating'].str.replace('10Exceptional','10')\n",
        "dataframe['rating'] = dataframe['rating'].str.replace('7.8Good','7')\n",
        "dataframe['rating'] = dataframe['rating'].str.replace('8.8Fabulous','8')\n",
        "dataframe['rating'] = dataframe['rating'].str.replace('9.2Superb','9')\n",
        "dataframe['rating'] = dataframe['rating'].str.replace('9.5Exceptional','9')\n",
        "dataframe['rating'] = dataframe['rating'].str.replace('8.5Very','8')\n",
        "dataframe['rating'] = dataframe['rating'].str.replace('4.0Review','4')\n",
        "dataframe['rating'] = dataframe['rating'].str.replace('4.8Review','4')\n"
      ],
      "metadata": {
        "colab": {
          "base_uri": "https://localhost:8080/"
        },
        "id": "0dEY0g1giCPw",
        "outputId": "de865e34-adf2-4c41-dd74-c980e20ff400"
      },
      "execution_count": null,
      "outputs": [
        {
          "output_type": "stream",
          "name": "stderr",
          "text": [
            "<ipython-input-157-bb20fc698819>:2: FutureWarning: The default value of regex will change from True to False in a future version.\n",
            "  dataframe['rating'] = dataframe['rating'].str.replace('2.0Review','2')\n",
            "<ipython-input-157-bb20fc698819>:3: FutureWarning: The default value of regex will change from True to False in a future version.\n",
            "  dataframe['rating'] = dataframe['rating'].str.replace('7.3Good','7')\n",
            "<ipython-input-157-bb20fc698819>:4: FutureWarning: The default value of regex will change from True to False in a future version.\n",
            "  dataframe['rating'] = dataframe['rating'].str.replace('9.1Superb','9')\n",
            "<ipython-input-157-bb20fc698819>:5: FutureWarning: The default value of regex will change from True to False in a future version.\n",
            "  dataframe['rating'] = dataframe['rating'].str.replace('8.3Very','8')\n",
            "<ipython-input-157-bb20fc698819>:6: FutureWarning: The default value of regex will change from True to False in a future version.\n",
            "  dataframe['rating'] = dataframe['rating'].str.replace('8.4Very','8')\n",
            "<ipython-input-157-bb20fc698819>:7: FutureWarning: The default value of regex will change from True to False in a future version.\n",
            "  dataframe['rating'] = dataframe['rating'].str.replace('8.9Fabulous','8')\n",
            "<ipython-input-157-bb20fc698819>:8: FutureWarning: The default value of regex will change from True to False in a future version.\n",
            "  dataframe['rating'] = dataframe['rating'].str.replace('8.7Fabulous','8')\n",
            "<ipython-input-157-bb20fc698819>:9: FutureWarning: The default value of regex will change from True to False in a future version.\n",
            "  dataframe['rating'] = dataframe['rating'].str.replace('8.1Very','8')\n",
            "<ipython-input-157-bb20fc698819>:10: FutureWarning: The default value of regex will change from True to False in a future version.\n",
            "  dataframe['rating'] = dataframe['rating'].str.replace('8.0Very','8')\n",
            "<ipython-input-157-bb20fc698819>:12: FutureWarning: The default value of regex will change from True to False in a future version.\n",
            "  dataframe['rating'] = dataframe['rating'].str.replace('7.8Good','7')\n",
            "<ipython-input-157-bb20fc698819>:13: FutureWarning: The default value of regex will change from True to False in a future version.\n",
            "  dataframe['rating'] = dataframe['rating'].str.replace('8.8Fabulous','8')\n",
            "<ipython-input-157-bb20fc698819>:14: FutureWarning: The default value of regex will change from True to False in a future version.\n",
            "  dataframe['rating'] = dataframe['rating'].str.replace('9.2Superb','9')\n",
            "<ipython-input-157-bb20fc698819>:15: FutureWarning: The default value of regex will change from True to False in a future version.\n",
            "  dataframe['rating'] = dataframe['rating'].str.replace('9.5Exceptional','9')\n",
            "<ipython-input-157-bb20fc698819>:16: FutureWarning: The default value of regex will change from True to False in a future version.\n",
            "  dataframe['rating'] = dataframe['rating'].str.replace('8.5Very','8')\n",
            "<ipython-input-157-bb20fc698819>:17: FutureWarning: The default value of regex will change from True to False in a future version.\n",
            "  dataframe['rating'] = dataframe['rating'].str.replace('4.0Review','4')\n",
            "<ipython-input-157-bb20fc698819>:18: FutureWarning: The default value of regex will change from True to False in a future version.\n",
            "  dataframe['rating'] = dataframe['rating'].str.replace('4.8Review','4')\n"
          ]
        }
      ]
    },
    {
      "cell_type": "code",
      "source": [
        "# plot value counts for each rating category in descending order\n",
        "# the majority of hotels available have the rating category 8\n",
        "dataframe = dataframe.sort_values('rating')\n",
        "dataframe.rating.value_counts().plot(kind='bar', color='tan')\n"
      ],
      "metadata": {
        "colab": {
          "base_uri": "https://localhost:8080/",
          "height": 450
        },
        "id": "M01uFQiNc5XS",
        "outputId": "2d861e99-e7b8-4c28-d780-c491b2c17004"
      },
      "execution_count": null,
      "outputs": [
        {
          "output_type": "execute_result",
          "data": {
            "text/plain": [
              "<Axes: >"
            ]
          },
          "metadata": {},
          "execution_count": 158
        },
        {
          "output_type": "display_data",
          "data": {
            "text/plain": [
              "<Figure size 640x480 with 1 Axes>"
            ],
            "image/png": "[encoded data removed]"
          },
          "metadata": {}
        }
      ]
    },
    {
      "cell_type": "code",
      "source": [
        "# https://scrapfly.io/blog/how-to-scrape-bookingcom/\n",
        "# https://www.scrapingdog.com/blog/scrape-bookingcom/\n",
        "# https://dev.to/serpdogapi/web-scraping-bookingcom-using-python-2be\n",
        "# https://apify.com/voyager/booking-scraper\n",
        "# https://www.scrapingbee.com/blog/web-scraping-booking/\n",
        "# https://en.wikipedia.org/wiki/Booking.com"
      ],
      "metadata": {
        "id": "9mnMO_GL-crv"
      },
      "execution_count": null,
      "outputs": []
    }
  ]
}