{
  "nbformat": 4,
  "nbformat_minor": 0,
  "metadata": {
    "colab": {
      "provenance": [],
      "collapsed_sections": []
    },
    "kernelspec": {
      "name": "python3",
      "display_name": "Python 3"
    },
    "language_info": {
      "name": "python"
    }
  },
  "cells": [
    {
      "cell_type": "code",
      "execution_count": 5,
      "metadata": {
        "colab": {
          "base_uri": "https://localhost:8080/"
        },
        "id": "jXFuDFghG-v5",
        "outputId": "8d48de05-3998-486b-9996-79fcea9548ab"
      },
      "outputs": [
        {
          "output_type": "stream",
          "name": "stdout",
          "text": [
            "Looking in indexes: https://pypi.org/simple, https://us-python.pkg.dev/colab-wheels/public/simple/\n",
            "Requirement already satisfied: requests in /usr/local/lib/python3.7/dist-packages (2.23.0)\n",
            "Requirement already satisfied: certifi>=2017.4.17 in /usr/local/lib/python3.7/dist-packages (from requests) (2022.6.15)\n",
            "Requirement already satisfied: idna<3,>=2.5 in /usr/local/lib/python3.7/dist-packages (from requests) (2.10)\n",
            "Requirement already satisfied: chardet<4,>=3.0.2 in /usr/local/lib/python3.7/dist-packages (from requests) (3.0.4)\n",
            "Requirement already satisfied: urllib3!=1.25.0,!=1.25.1,<1.26,>=1.21.1 in /usr/local/lib/python3.7/dist-packages (from requests) (1.24.3)\n"
          ]
        }
      ],
      "source": [
        "pip install requests"
      ]
    },
    {
      "cell_type": "code",
      "source": [
        "pip install beautifulsoup4"
      ],
      "metadata": {
        "colab": {
          "base_uri": "https://localhost:8080/"
        },
        "id": "97OVoHG1HO4D",
        "outputId": "686113bb-0ef3-47db-ea2f-b36e8bf49671"
      },
      "execution_count": 6,
      "outputs": [
        {
          "output_type": "stream",
          "name": "stdout",
          "text": [
            "Looking in indexes: https://pypi.org/simple, https://us-python.pkg.dev/colab-wheels/public/simple/\n",
            "Requirement already satisfied: beautifulsoup4 in /usr/local/lib/python3.7/dist-packages (4.6.3)\n"
          ]
        }
      ]
    },
    {
      "cell_type": "code",
      "source": [
        "pip install pandas"
      ],
      "metadata": {
        "colab": {
          "base_uri": "https://localhost:8080/"
        },
        "id": "Qb4jGFFgHT9J",
        "outputId": "41d209ca-c1c1-4c70-d98e-0344777eeb6d"
      },
      "execution_count": 7,
      "outputs": [
        {
          "output_type": "stream",
          "name": "stdout",
          "text": [
            "Looking in indexes: https://pypi.org/simple, https://us-python.pkg.dev/colab-wheels/public/simple/\n",
            "Requirement already satisfied: pandas in /usr/local/lib/python3.7/dist-packages (1.3.5)\n",
            "Requirement already satisfied: python-dateutil>=2.7.3 in /usr/local/lib/python3.7/dist-packages (from pandas) (2.8.2)\n",
            "Requirement already satisfied: pytz>=2017.3 in /usr/local/lib/python3.7/dist-packages (from pandas) (2022.2.1)\n",
            "Requirement already satisfied: numpy>=1.17.3 in /usr/local/lib/python3.7/dist-packages (from pandas) (1.21.6)\n",
            "Requirement already satisfied: six>=1.5 in /usr/local/lib/python3.7/dist-packages (from python-dateutil>=2.7.3->pandas) (1.15.0)\n"
          ]
        }
      ]
    },
    {
      "cell_type": "code",
      "source": [
        "mkdir scraper "
      ],
      "metadata": {
        "id": "2s7Cfd75HYvY"
      },
      "execution_count": 8,
      "outputs": []
    },
    {
      "cell_type": "code",
      "source": [
        "import requests\n",
        "from bs4 import BeautifulSoup\n",
        "import pandas as pd"
      ],
      "metadata": {
        "id": "_5USwolyHfMf"
      },
      "execution_count": 9,
      "outputs": []
    },
    {
      "cell_type": "code",
      "source": [
        "baseurl = \"https://www.thewhiskyexchange.com\"\n",
        "headers = {'User-Agent': 'Mozilla/5.0 (Windows NT 10.0; Win64; x64) AppleWebKit/537.36 (KHTML, like Gecko) Chrome/89.0.4389.82 Safari/537.36'}"
      ],
      "metadata": {
        "id": "2WvysXBfHfOE"
      },
      "execution_count": 10,
      "outputs": []
    },
    {
      "cell_type": "code",
      "source": [
        "baseurl2 = \"https://www.hofer.at/de/onlineshop.html\"\n",
        "headers2 = {'User-Agent': 'Mozilla/5.0 (Windows NT 10.0; Win64; x64) AppleWebKit/537.36 (KHTML, like Gecko) Chrome/89.0.4389.82 Safari/537.36'}"
      ],
      "metadata": {
        "id": "fXoI7noIHfSe"
      },
      "execution_count": 11,
      "outputs": []
    },
    {
      "cell_type": "code",
      "source": [
        "k = requests.get('https://www.thewhiskyexchange.com/c/35/japanese-whisky').text\n",
        "soup=BeautifulSoup(k,'html.parser')\n",
        "productlist = soup.find_all(\"li\",{\"class\":\"product-grid__item\"})\n",
        "print(productlist)"
      ],
      "metadata": {
        "colab": {
          "base_uri": "https://localhost:8080/"
        },
        "id": "O6cC6Ps3HfUm",
        "outputId": "3d03e073-3a54-4c83-f683-8bfa4232811a"
      },
      "execution_count": 12,
      "outputs": [
        {
          "output_type": "stream",
          "name": "stdout",
          "text": [
            "[<li class=\"product-grid__item\"><a class=\"product-card\" href=\"/p/50479/ichiros-malt-double-distilleries-2021\" onclick=\"_gaq.push(['_trackEvent', 'Products-GridView', 'click', '50479 : Ichiros Malt Double Distilleries 2021'])\" title=\"Ichiro's Malt Double Distilleries 2021\"><div class=\"product-card__image-container\"><img alt=\"Ichiro's Malt Double Distilleries 2021\" class=\"product-card__image\" height=\"4\" loading=\"lazy\" src=\"https://img.thewhiskyexchange.com/480/japan_ich20.jpg\" width=\"3\"/></div><div class=\"product-card__content\"><p class=\"product-card__name\"> Ichiro's Malt Double Distilleries 2021 </p><p class=\"product-card__meta\"> 70cl / 53.5% </p></div><div class=\"product-card__data\"><p class=\"product-card__price\"> £299 </p><p class=\"product-card__unit-price\"> (£427.14 per litre) </p></div></a></li>, <li class=\"product-grid__item\"><a class=\"product-card\" href=\"/p/29388/suntory-hibiki-harmony\" onclick=\"_gaq.push(['_trackEvent', 'Products-GridView', 'click', '29388 : Suntory Hibiki Harmony'])\" title=\"Suntory Hibiki Harmony\"><div class=\"product-card__image-container\"><img alt=\"Suntory Hibiki Harmony\" class=\"product-card__image\" height=\"4\" loading=\"lazy\" src=\"https://img.thewhiskyexchange.com/480/japan_hib11.jpg\" width=\"3\"/></div><div class=\"product-card__content\"><p class=\"product-card__name\"> Suntory Hibiki Harmony </p><p class=\"product-card__meta\"> 70cl / 43% </p></div><div class=\"product-card__data\"><p class=\"product-card__price\"> £76.95 </p><p class=\"product-card__unit-price\"> (£109.93 per litre) </p></div></a></li>, <li class=\"product-grid__item\"><a class=\"product-card\" href=\"/p/2940/yamazaki-12-year-old\" onclick=\"_gaq.push(['_trackEvent', 'Products-GridView', 'click', '2940 : Yamazaki 12 Year Old'])\" title=\"Yamazaki 12 Year Old\"><div class=\"product-card__image-container\"><img alt=\"Yamazaki 12 Year Old\" class=\"product-card__image\" height=\"4\" loading=\"lazy\" src=\"https://img.thewhiskyexchange.com/480/japan_yam1.jpg\" width=\"3\"/></div><div class=\"product-card__content\"><p class=\"product-card__name\"> Yamazaki 12 Year Old </p><p class=\"product-card__meta\"> 70cl / 43% </p></div><div class=\"product-card__data\"><p class=\"product-card__price\"> £150 </p><p class=\"product-card__unit-price\"> (£214.29 per litre) </p></div></a></li>, <li class=\"product-grid__item\"><a class=\"product-card\" href=\"/p/2941/yamazaki-18-year-old\" onclick=\"_gaq.push(['_trackEvent', 'Products-GridView', 'click', '2941 : Yamazaki 18 Year Old'])\" title=\"Yamazaki 18 Year Old\"><div class=\"product-card__image-container\"><img alt=\"Yamazaki 18 Year Old\" class=\"product-card__image\" height=\"4\" loading=\"lazy\" src=\"https://img.thewhiskyexchange.com/480/japan_yam2.jpg\" width=\"3\"/></div><div class=\"product-card__content\"><p class=\"product-card__name\"> Yamazaki 18 Year Old </p><p class=\"product-card__meta\"> 70cl / 43% </p></div><div class=\"product-card__data\"><p class=\"product-card__price\"> £950 </p><p class=\"product-card__unit-price\"> (£1,357.14 per litre) </p></div></a></li>, <li class=\"product-grid__item\"><a class=\"product-card\" href=\"/p/23772/yamazaki-distillers-reserve\" onclick=\"_gaq.push(['_trackEvent', 'Products-GridView', 'click', '23772 : Yamazaki Distillers Reserve'])\" title=\"Yamazaki Distiller's Reserve\"><div class=\"product-card__image-container\"><img alt=\"Yamazaki Distiller's Reserve\" class=\"product-card__image\" height=\"4\" loading=\"lazy\" src=\"https://img.thewhiskyexchange.com/480/japan_yam29.jpg\" width=\"3\"/></div><div class=\"product-card__content\"><p class=\"product-card__name\"> Yamazaki Distiller's Reserve </p><p class=\"product-card__meta\"> 70cl / 43% </p></div><div class=\"product-card__data\"><p class=\"product-card__price\"> £72.95 </p><p class=\"product-card__unit-price\"> (£104.21 per litre) </p></div></a></li>, <li class=\"product-grid__item\"><a class=\"product-card\" href=\"/p/23928/nikka-coffey-grain-whisky\" onclick=\"_gaq.push(['_trackEvent', 'Products-GridView', 'click', '23928 : Nikka Coffey Grain Whisky'])\" title=\"Nikka Coffey Grain Whisky\"><div class=\"product-card__image-container\"><img alt=\"Nikka Coffey Grain Whisky\" class=\"product-card__image\" height=\"4\" loading=\"lazy\" src=\"https://img.thewhiskyexchange.com/480/japan_nik24.jpg\" width=\"3\"/><div class=\"product-extras product-extras--grid\"><div class=\"product-extras-banner\"><img alt=\"Available with Engraving\" class=\"product-extras-banner__image\" height=\"37\" src=\"/media/rtwe/assets/application/images/widgets/engraving-sm.png\" width=\"198\"/></div></div></div><div class=\"product-card__content\"><p class=\"product-card__name\"> Nikka Coffey Grain Whisky </p><p class=\"product-card__meta\"> 70cl / 45% </p></div><div class=\"product-card__data\"><p class=\"product-card__price\"> £57.95 </p><p class=\"product-card__unit-price\"> (£82.79 per litre) </p></div></a></li>, <li class=\"product-grid__item\"><a class=\"product-card\" href=\"/p/32761/yoichi-single-malt\" onclick=\"_gaq.push(['_trackEvent', 'Products-GridView', 'click', '32761 : Yoichi Single Malt'])\" title=\"Yoichi Single Malt\"><div class=\"product-card__image-container\"><img alt=\"Yoichi Single Malt\" class=\"product-card__image\" height=\"4\" loading=\"lazy\" src=\"https://img.thewhiskyexchange.com/480/japan_yoi22.jpg\" width=\"3\"/></div><div class=\"product-card__content\"><p class=\"product-card__name\"> Yoichi Single Malt </p><p class=\"product-card__meta\"> 70cl / 45% </p></div><div class=\"product-card__data\"><p class=\"product-card__price\"> £77.75 </p><p class=\"product-card__unit-price\"> (£111.07 per litre) </p></div></a></li>, <li class=\"product-grid__item\"><a class=\"product-card\" href=\"/p/37317/the-chita-whisky\" onclick=\"_gaq.push(['_trackEvent', 'Products-GridView', 'click', '37317 : The Chita Whisky'])\" title=\"The Chita Whisky\"><div class=\"product-card__image-container\"><img alt=\"The Chita Whisky\" class=\"product-card__image\" height=\"4\" loading=\"lazy\" src=\"https://img.thewhiskyexchange.com/480/japan_sun17.jpg\" width=\"3\"/></div><div class=\"product-card__content\"><p class=\"product-card__name\"> The Chita Whisky </p><p class=\"product-card__meta\"> 70cl / 43% </p></div><div class=\"product-card__data\"><p class=\"product-card__price\"> £51.95 </p><p class=\"product-card__unit-price\"> (£74.21 per litre) </p></div></a></li>, <li class=\"product-grid__item\"><a class=\"product-card\" href=\"/p/2922/hakushu-12-year-old\" onclick=\"_gaq.push(['_trackEvent', 'Products-GridView', 'click', '2922 : Hakushu 12 Year Old'])\" title=\"Hakushu 12 Year Old\"><div class=\"product-card__image-container\"><img alt=\"Hakushu 12 Year Old\" class=\"product-card__image\" height=\"4\" loading=\"lazy\" src=\"https://img.thewhiskyexchange.com/480/japan_hak1.jpg\" width=\"3\"/></div><div class=\"product-card__content\"><p class=\"product-card__name\"> Hakushu 12 Year Old </p><p class=\"product-card__meta\"> 70cl / 43% </p></div><div class=\"product-card__data\"><p class=\"product-card__price\"> £185 </p><p class=\"product-card__unit-price\"> (£264.29 per litre) </p></div></a></li>, <li class=\"product-grid__item\"><a class=\"product-card\" href=\"/p/23771/hakushu-distillers-reserve\" onclick=\"_gaq.push(['_trackEvent', 'Products-GridView', 'click', '23771 : Hakushu Distillers Reserve'])\" title=\"Hakushu Distiller's Reserve\"><div class=\"product-card__image-container\"><img alt=\"Hakushu Distiller's Reserve\" class=\"product-card__image\" height=\"4\" loading=\"lazy\" src=\"https://img.thewhiskyexchange.com/480/japan_hak16.jpg\" width=\"3\"/><div class=\"product-extras product-extras--grid\"><div class=\"product-extras-banner\"><img alt=\"Available with Engraving\" class=\"product-extras-banner__image\" height=\"37\" src=\"/media/rtwe/assets/application/images/widgets/engraving-sm.png\" width=\"198\"/></div></div></div><div class=\"product-card__content\"><p class=\"product-card__name\"> Hakushu Distiller's Reserve </p><p class=\"product-card__meta\"> 70cl / 43% </p></div><div class=\"product-card__data\"><p class=\"product-card__price\"> £70.95 </p><p class=\"product-card__unit-price\"> (£101.36 per litre) </p></div></a></li>, <li class=\"product-grid__item\"><a class=\"product-card\" href=\"/p/36362/suntory-toki\" onclick=\"_gaq.push(['_trackEvent', 'Products-GridView', 'click', '36362 : Suntory Toki'])\" title=\"Suntory Toki\"><div class=\"product-card__image-container\"><img alt=\"Suntory Toki\" class=\"product-card__image\" height=\"4\" loading=\"lazy\" src=\"https://img.thewhiskyexchange.com/480/japan_sun15.jpg\" width=\"3\"/></div><div class=\"product-card__content\"><p class=\"product-card__name\"> Suntory Toki </p><p class=\"product-card__meta\"> 70cl / 43% </p></div><div class=\"product-card__data\"><p class=\"product-card__price\"> £33.95 </p><p class=\"product-card__unit-price\"> (£48.50 per litre) </p></div></a></li>, <li class=\"product-grid__item\"><a class=\"product-card\" href=\"/p/54509/chichibu-on-the-way-bot2019\" onclick=\"_gaq.push(['_trackEvent', 'Products-GridView', 'click', '54509 : Chichibu On The Way / Bot.2019'])\" title=\" Chichibu On The Way Bot.2019\"><div class=\"product-card__image-container\"><img alt=\"Chichibu On The Way Bot.2019\" class=\"product-card__image\" height=\"4\" loading=\"lazy\" src=\"https://img.thewhiskyexchange.com/480/japan_chi29.jpg\" width=\"3\"/></div><div class=\"product-card__content\"><p class=\"product-card__name\"> Chichibu On The Way<span class=\"product-card__name-secondary\">Bot.2019</span></p><p class=\"product-card__meta\"> 70cl / 51.5% </p></div><div class=\"product-card__data\"><p class=\"product-card__price\"> £450 </p><p class=\"product-card__unit-price\"> (£642.86 per litre) </p></div></a></li>, <li class=\"product-grid__item\"><a class=\"product-card\" href=\"/p/32762/miyagikyo-single-malt\" onclick=\"_gaq.push(['_trackEvent', 'Products-GridView', 'click', '32762 : Miyagikyo Single Malt'])\" title=\"Miyagikyo Single Malt\"><div class=\"product-card__image-container\"><img alt=\"Miyagikyo Single Malt\" class=\"product-card__image\" height=\"4\" loading=\"lazy\" src=\"https://img.thewhiskyexchange.com/480/japan_miy10.jpg\" width=\"3\"/></div><div class=\"product-card__content\"><p class=\"product-card__name\"> Miyagikyo Single Malt </p><p class=\"product-card__meta\"> 70cl / 45% </p></div><div class=\"product-card__data\"><p class=\"product-card__price\"> £78.45 </p><p class=\"product-card__unit-price\"> (£112.07 per litre) </p></div></a></li>, <li class=\"product-grid__item\"><a class=\"product-card\" href=\"/p/67583/mars-komatgatake-edition-bot2021\" onclick=\"_gaq.push(['_trackEvent', 'Products-GridView', 'click', '67583 : Mars Komatgatake Edition / Bot.2021'])\" title=\" Mars Komatgatake Edition Bot.2021\"><div class=\"product-card__image-container\"><img alt=\"Mars Komatgatake Edition Bot.2021\" class=\"product-card__image\" height=\"4\" loading=\"lazy\" src=\"https://img.thewhiskyexchange.com/480/japan_mar15.jpg\" width=\"3\"/></div><div class=\"product-card__content\"><p class=\"product-card__name\"> Mars Komatgatake Edition<span class=\"product-card__name-secondary\">Bot.2021</span></p><p class=\"product-card__meta\"> 70cl / 48% </p></div><div class=\"product-card__data\"><p class=\"product-card__price\"> £145 </p><p class=\"product-card__unit-price\"> (£207.14 per litre) </p></div></a></li>, <li class=\"product-grid__item\"><a class=\"product-card\" href=\"/p/10134/suntory-hibiki-21-year-old\" onclick=\"_gaq.push(['_trackEvent', 'Products-GridView', 'click', '10134 : Suntory Hibiki 21 Year Old'])\" title=\"Suntory Hibiki 21 Year Old\"><div class=\"product-card__image-container\"><img alt=\"Suntory Hibiki 21 Year Old\" class=\"product-card__image\" height=\"4\" loading=\"lazy\" src=\"https://img.thewhiskyexchange.com/480/japan_hib6.jpg\" width=\"3\"/></div><div class=\"product-card__content\"><p class=\"product-card__name\"> Suntory Hibiki 21 Year Old </p><p class=\"product-card__meta\"> 70cl / 43% </p></div><div class=\"product-card__data\"><p class=\"product-card__price\"> £1,250 </p><p class=\"product-card__unit-price\"> (£1,785.71 per litre) </p></div></a></li>, <li class=\"product-grid__item\"><a class=\"product-card\" href=\"/p/8917/hakushu-18-year-old\" onclick=\"_gaq.push(['_trackEvent', 'Products-GridView', 'click', '8917 : Hakushu 18 Year Old'])\" title=\"Hakushu 18 Year Old\"><div class=\"product-card__image-container\"><img alt=\"Hakushu 18 Year Old\" class=\"product-card__image\" height=\"4\" loading=\"lazy\" src=\"https://img.thewhiskyexchange.com/480/japan_hak2.jpg\" width=\"3\"/></div><div class=\"product-card__content\"><p class=\"product-card__name\"> Hakushu 18 Year Old </p><p class=\"product-card__meta\"> 70cl / 43% </p></div><div class=\"product-card__data\"><p class=\"product-card__price\"> £725 </p><p class=\"product-card__unit-price\"> (£1,035.71 per litre) </p></div></a></li>, <li class=\"product-grid__item\"><a class=\"product-card\" href=\"/p/67807/shinju-japanese-8-year-old-whisky\" onclick=\"_gaq.push(['_trackEvent', 'Products-GridView', 'click', '67807 : Shinju Japanese 8 Year Old Whisky'])\" title=\"Shinju Japanese 8 Year Old Whisky\"><div class=\"product-card__image-container\"><img alt=\"Shinju Japanese 8 Year Old Whisky\" class=\"product-card__image\" height=\"4\" loading=\"lazy\" src=\"https://img.thewhiskyexchange.com/480/japan_shi08yo.jpg\" width=\"3\"/></div><div class=\"product-card__content\"><p class=\"product-card__name\"> Shinju Japanese 8 Year Old Whisky </p><p class=\"product-card__meta\"> 70cl / 40% </p></div><div class=\"product-card__data\"><p class=\"product-card__price\"> £47.45 </p><p class=\"product-card__unit-price\"> (£67.79 per litre) </p></div></a></li>, <li class=\"product-grid__item\"><a class=\"product-card\" href=\"/p/31531/akashi-single-malt-whisky\" onclick=\"_gaq.push(['_trackEvent', 'Products-GridView', 'click', '31531 : Akashi Single Malt Whisky'])\" title=\"Akashi Single Malt Whisky\"><div class=\"product-card__image-container\"><img alt=\"Akashi Single Malt Whisky\" class=\"product-card__image\" height=\"4\" loading=\"lazy\" src=\"https://img.thewhiskyexchange.com/480/japan_aka2.jpg\" width=\"3\"/></div><div class=\"product-card__content\"><p class=\"product-card__name\"> Akashi Single Malt Whisky </p><p class=\"product-card__meta\"> 50cl / 46% </p></div><div class=\"product-card__data\"><p class=\"product-card__price\"> £66.75 </p><p class=\"product-card__unit-price\"> (£133.50 per litre) </p></div></a></li>, <li class=\"product-grid__item\"><a class=\"product-card\" href=\"/p/67806/shinju-japanese-whisky\" onclick=\"_gaq.push(['_trackEvent', 'Products-GridView', 'click', '67806 : Shinju Japanese Whisky'])\" title=\"Shinju Japanese Whisky\"><div class=\"product-card__image-container\"><img alt=\"Shinju Japanese Whisky\" class=\"product-card__image\" height=\"4\" loading=\"lazy\" src=\"https://img.thewhiskyexchange.com/480/japan_shi1.jpg\" width=\"3\"/></div><div class=\"product-card__content\"><p class=\"product-card__name\"> Shinju Japanese Whisky </p><p class=\"product-card__meta\"> 70cl / 40% </p></div><div class=\"product-card__data\"><p class=\"product-card__price\"> £37.45 </p><p class=\"product-card__unit-price\"> (£53.50 per litre) </p></div></a></li>, <li class=\"product-grid__item\"><a class=\"product-card\" href=\"/p/45367/kaiyo-mizunara-oak-cask-strength\" onclick=\"_gaq.push(['_trackEvent', 'Products-GridView', 'click', '45367 : Kaiyo Mizunara Oak Cask Strength'])\" title=\"Kaiyo Mizunara Oak Cask Strength\"><div class=\"product-card__image-container\"><img alt=\"Kaiyo Mizunara Oak Cask Strength\" class=\"product-card__image\" height=\"4\" loading=\"lazy\" src=\"https://img.thewhiskyexchange.com/480/japan_kai2.jpg\" width=\"3\"/></div><div class=\"product-card__content\"><p class=\"product-card__name\"> Kaiyo Mizunara Oak Cask Strength </p><p class=\"product-card__meta\"> 70cl / 53% </p></div><div class=\"product-card__data\"><p class=\"product-card__price\"> £110 </p><p class=\"product-card__unit-price\"> (£157.14 per litre) </p></div></a></li>, <li class=\"product-grid__item\"><a class=\"product-card\" href=\"/p/45366/kaiyo-mizunara-oak\" onclick=\"_gaq.push(['_trackEvent', 'Products-GridView', 'click', '45366 : Kaiyo Mizunara Oak'])\" title=\"Kaiyo Mizunara Oak\"><div class=\"product-card__image-container\"><img alt=\"Kaiyo Mizunara Oak\" class=\"product-card__image\" height=\"4\" loading=\"lazy\" src=\"https://img.thewhiskyexchange.com/480/japan_kai1.jpg\" width=\"3\"/></div><div class=\"product-card__content\"><p class=\"product-card__name\"> Kaiyo Mizunara Oak </p><p class=\"product-card__meta\"> 70cl / 43% </p></div><div class=\"product-card__data\"><p class=\"product-card__price\"> £82.95 </p><p class=\"product-card__unit-price\"> (£118.50 per litre) </p></div></a></li>, <li class=\"product-grid__item\"><a class=\"product-card\" href=\"/p/64380/shizuoka-single-malt-prologue-k-and-prologue-w-2x20cl\" onclick=\"_gaq.push(['_trackEvent', 'Products-GridView', 'click', '64380 : Shizuoka Single Malt Prologue K and Prologue W / 2x20cl'])\" title=\" Shizuoka Single Malt Prologue K and Prologue W 2x20cl\"><div class=\"product-card__image-container\"><img alt=\"Shizuoka Single Malt Prologue K and Prologue W 2x20cl\" class=\"product-card__image\" height=\"4\" loading=\"lazy\" src=\"https://img.thewhiskyexchange.com/480/sets_japan_shi1.jpg\" width=\"3\"/></div><div class=\"product-card__content\"><p class=\"product-card__name\"> Shizuoka Single Malt Prologue K and Prologue W<span class=\"product-card__name-secondary\">2x20cl</span></p><p class=\"product-card__meta\"> 40cl / 55.5% </p></div><div class=\"product-card__data\"><p class=\"product-card__price\"> £199 </p><p class=\"product-card__unit-price\"> (£497.50 per litre) </p></div></a></li>, <li class=\"product-grid__item\"><a class=\"product-card\" href=\"/p/51453/chichibu-2012-peated-single-cask-2089-twe-exclusive\" onclick=\"_gaq.push(['_trackEvent', 'Products-GridView', 'click', '51453 : Chichibu 2012 / Peated Single Cask #2089 / TWE Exclusive'])\" title=\" Chichibu 2012 Peated Single Cask #2089 TWE Exclusive\"><div class=\"product-card__image-container\"><img alt=\"Chichibu 2012 Peated Single Cask #2089 TWE Exclusive\" class=\"product-card__image\" height=\"4\" loading=\"lazy\" src=\"https://img.thewhiskyexchange.com/480/japan_chi22.jpg\" width=\"3\"/></div><div class=\"product-card__content\"><p class=\"product-card__name\"> Chichibu 2012<span class=\"product-card__name-secondary\">Peated Single Cask #2089 TWE Exclusive</span></p><p class=\"product-card__meta\"> 70cl / 60.8% </p></div><div class=\"product-card__data\"><p class=\"product-card__price\"> £1,850 </p><p class=\"product-card__unit-price\"> (£2,642.86 per litre) </p></div></a></li>, <li class=\"product-grid__item\"><a class=\"product-card\" href=\"/p/10132/hakushu-10-year-old\" onclick=\"_gaq.push(['_trackEvent', 'Products-GridView', 'click', '10132 : Hakushu 10 Year Old'])\" title=\"Hakushu 10 Year Old\"><div class=\"product-card__image-container\"><img alt=\"Hakushu 10 Year Old\" class=\"product-card__image\" height=\"4\" loading=\"lazy\" src=\"https://img.thewhiskyexchange.com/480/japan_hak6.jpg\" width=\"3\"/></div><div class=\"product-card__content\"><p class=\"product-card__name\"> Hakushu 10 Year Old </p><p class=\"product-card__meta\"> 70cl / 40.5% </p></div><div class=\"product-card__data\"><p class=\"product-card__price\"> £399 </p><p class=\"product-card__unit-price\"> (£570 per litre) </p></div></a></li>]\n"
          ]
        }
      ]
    },
    {
      "cell_type": "code",
      "source": [
        "k2 = requests.get('https://www.hofer.at/de/onlineshop/onlineshop-aktionsartikel.html').text\n",
        "soup2=BeautifulSoup(k2,'html.parser')\n",
        "productlist2 = soup2.find_all(\"h2\",{\"class\":\"product-title at-all-productName-lbl \"})\n",
        "print(productlist2)"
      ],
      "metadata": {
        "colab": {
          "base_uri": "https://localhost:8080/"
        },
        "id": "4dPBeGN-HfWC",
        "outputId": "7d4c8fad-c61c-4a03-d827-b097dd162be3"
      },
      "execution_count": 23,
      "outputs": [
        {
          "output_type": "stream",
          "name": "stdout",
          "text": [
            "[<h2 class=\"product-title at-all-productName-lbl \">MEDION Dunstabzugshaube</h2>, <h2 class=\"product-title at-all-productName-lbl \">BEKO Backrohrset mit autarkem Induktionskochfeld</h2>, <h2 class=\"product-title at-all-productName-lbl \">GRUNDIG E-Citybike 28\"</h2>, <h2 class=\"product-title at-all-productName-lbl \">GRUNDIG E-Trekkingbike 28\"</h2>, <h2 class=\"product-title at-all-productName-lbl \">MEATEOR Ambiente Feuertisch</h2>, <h2 class=\"product-title at-all-productName-lbl \">WELLNATURE Feuertisch Sevilla</h2>, <h2 class=\"product-title at-all-productName-lbl \">MEDION Weintemperierschrank</h2>, <h2 class=\"product-title at-all-productName-lbl \">MY LIVING STYLE 7-Zonen-Kaltschaummatratze, 140 x 200 cm</h2>, <h2 class=\"product-title at-all-productName-lbl \">MY LIVING STYLE 7-Zonen-Kaltschaummatratze, 90 x 200 cm</h2>, <h2 class=\"product-title at-all-productName-lbl \">MY LIVING STYLE Matratze Taschenfederkern</h2>, <h2 class=\"product-title at-all-productName-lbl \">MY LIVING STYLE Matratze Taschenfederkern \"Gel Active\"</h2>, <h2 class=\"product-title at-all-productName-lbl \">MY LIVING STYLE Matratze Taschenfederkern Härtegrad 2</h2>, <h2 class=\"product-title at-all-productName-lbl \">MY LIVING STYLE Matratze Taschenfederkern Härtegrad 3</h2>, <h2 class=\"product-title at-all-productName-lbl \">SCHEPPACH Multifunktions-Schleifgerät CPG1200</h2>, <h2 class=\"product-title at-all-productName-lbl \">Esstischgruppe, 5-teilig</h2>, <h2 class=\"product-title at-all-productName-lbl \">MEDION Speiseeismaschine, selbstkühlend</h2>, <h2 class=\"product-title at-all-productName-lbl \">Garderobe Lucca</h2>, <h2 class=\"product-title at-all-productName-lbl \">Kinder-Bett Eiche</h2>, <h2 class=\"product-title at-all-productName-lbl \">Nachtkästchen Eiche</h2>, <h2 class=\"product-title at-all-productName-lbl \">Blutbuche</h2>, <h2 class=\"product-title at-all-productName-lbl \">Fächerpalme</h2>, <h2 class=\"product-title at-all-productName-lbl \">Kirschlorbeer 120 cm</h2>, <h2 class=\"product-title at-all-productName-lbl \">Kirschlorbeer 80 cm</h2>, <h2 class=\"product-title at-all-productName-lbl \">Liguster</h2>, <h2 class=\"product-title at-all-productName-lbl \">Oleander</h2>, <h2 class=\"product-title at-all-productName-lbl \">Olivenbaum</h2>, <h2 class=\"product-title at-all-productName-lbl \">Smaragd Thujen 80 cm</h2>, <h2 class=\"product-title at-all-productName-lbl \">DOC GREEN E-Scooter</h2>, <h2 class=\"product-title at-all-productName-lbl \">Crosstrainer</h2>, <h2 class=\"product-title at-all-productName-lbl \">GRUNDIG E-Mountainbike Fully 27,5\"</h2>, <h2 class=\"product-title at-all-productName-lbl \">GRUNDIG E-Mountainbike Hardtail 27,5\"</h2>, <h2 class=\"product-title at-all-productName-lbl \">Multifunktionale Hantelbank</h2>, <h2 class=\"product-title at-all-productName-lbl \">Power Rack Set</h2>, <h2 class=\"product-title at-all-productName-lbl \">Rudergerät</h2>, <h2 class=\"product-title at-all-productName-lbl \">KENWOOD Smart Radio CR-ST100S</h2>, <h2 class=\"product-title at-all-productName-lbl \">DOC GREEN E-Faltrad</h2>, <h2 class=\"product-title at-all-productName-lbl \">DOC GREEN E-Klappscooter EKS 77</h2>, <h2 class=\"product-title at-all-productName-lbl \">MARMONY Infrarotheizung</h2>, <h2 class=\"product-title at-all-productName-lbl \">MARMONY Infrarotheizung</h2>, <h2 class=\"product-title at-all-productName-lbl \">MEDION Party-Kühlfass</h2>, <h2 class=\"product-title at-all-productName-lbl \">DOC GREEN E-Klappscooter EKS 77</h2>, <h2 class=\"product-title at-all-productName-lbl \">HAILO Alu-Kombileiter, 3-teilig</h2>, <h2 class=\"product-title at-all-productName-lbl \">SCHEPPACH Wippsäge</h2>, <h2 class=\"product-title at-all-productName-lbl \">SCHEPPACH Profidickenhobelmaschine PLM1800</h2>, <h2 class=\"product-title at-all-productName-lbl \">SCHEPPACH Stromerzeuger SG3200</h2>, <h2 class=\"product-title at-all-productName-lbl \">Eichenbett mit Matratze</h2>, <h2 class=\"product-title at-all-productName-lbl \">Eichenbett ohne Matratze</h2>, <h2 class=\"product-title at-all-productName-lbl \">Sitzbank Eiche</h2>, <h2 class=\"product-title at-all-productName-lbl \">Österreichische\n",
            "Hainbuche</h2>, <h2 class=\"product-title at-all-productName-lbl \">Ergometer</h2>, <h2 class=\"product-title at-all-productName-lbl \">RENEWD ® iPhone 11 Pro (256GB)</h2>]\n"
          ]
        }
      ]
    },
    {
      "cell_type": "code",
      "source": [
        "productlinks = []\n",
        "for product in productlist:\n",
        "        link = product.find(\"a\",{\"class\":\"product-card\"}).get('href') \n",
        "        productlinks.append(baseurl + link)\n",
        "print(productlinks)"
      ],
      "metadata": {
        "colab": {
          "base_uri": "https://localhost:8080/"
        },
        "id": "Idf-ZfLMIQtN",
        "outputId": "5504c245-5c2f-44e9-9ff9-b14c6848ffe3"
      },
      "execution_count": 30,
      "outputs": [
        {
          "output_type": "stream",
          "name": "stdout",
          "text": [
            "['https://www.thewhiskyexchange.com/p/37325/suntory-torys-classic', 'https://www.thewhiskyexchange.com/p/36362/suntory-toki', 'https://www.thewhiskyexchange.com/p/67806/shinju-japanese-whisky', 'https://www.thewhiskyexchange.com/p/63405/the-house-of-suntory-triology-pack-3x20cl', 'https://www.thewhiskyexchange.com/p/67807/shinju-japanese-8-year-old-whisky', 'https://www.thewhiskyexchange.com/p/37317/the-chita-whisky', 'https://www.thewhiskyexchange.com/p/23928/nikka-coffey-grain-whisky', 'https://www.thewhiskyexchange.com/p/31531/akashi-single-malt-whisky', 'https://www.thewhiskyexchange.com/p/23771/hakushu-distillers-reserve', 'https://www.thewhiskyexchange.com/p/23772/yamazaki-distillers-reserve', 'https://www.thewhiskyexchange.com/p/29388/suntory-hibiki-harmony', 'https://www.thewhiskyexchange.com/p/32761/yoichi-single-malt', 'https://www.thewhiskyexchange.com/p/32762/miyagikyo-single-malt', 'https://www.thewhiskyexchange.com/p/45366/kaiyo-mizunara-oak', 'https://www.thewhiskyexchange.com/p/52590/kaiyo-peated-mizunara-oak', 'https://www.thewhiskyexchange.com/p/45367/kaiyo-mizunara-oak-cask-strength', 'https://www.thewhiskyexchange.com/p/67583/mars-komatgatake-edition-bot2021', 'https://www.thewhiskyexchange.com/p/34461/akashi-5-year-old-sherry-cask-half-litre', 'https://www.thewhiskyexchange.com/p/2940/yamazaki-12-year-old', 'https://www.thewhiskyexchange.com/p/64651/nikka-coffey-grain-whisky-show-package-1-sunday-ticket', 'https://www.thewhiskyexchange.com/p/2922/hakushu-12-year-old', 'https://www.thewhiskyexchange.com/p/64380/shizuoka-single-malt-prologue-k-and-prologue-w-2x20cl', 'https://www.thewhiskyexchange.com/p/64652/nikka-coffey-grain-whisky-show-package-2-sunday-tickets', 'https://www.thewhiskyexchange.com/p/50479/ichiros-malt-double-distilleries-2021']\n"
          ]
        }
      ]
    },
    {
      "cell_type": "code",
      "source": [
        "productlinks = []\n",
        "for product in productlist:\n",
        "        link = product.find(\"a\",{\"class\":\"product-card\"}).get('href') \n",
        "        productlinks.append(baseurl + link)\n",
        "print(productlinks)"
      ],
      "metadata": {
        "colab": {
          "base_uri": "https://localhost:8080/"
        },
        "id": "IQ67cu2KPwZj",
        "outputId": "3ea62925-5f54-4cc6-fa4b-26b2afba8a60"
      },
      "execution_count": 31,
      "outputs": [
        {
          "output_type": "stream",
          "name": "stdout",
          "text": [
            "['https://www.thewhiskyexchange.com/p/37325/suntory-torys-classic', 'https://www.thewhiskyexchange.com/p/36362/suntory-toki', 'https://www.thewhiskyexchange.com/p/67806/shinju-japanese-whisky', 'https://www.thewhiskyexchange.com/p/63405/the-house-of-suntory-triology-pack-3x20cl', 'https://www.thewhiskyexchange.com/p/67807/shinju-japanese-8-year-old-whisky', 'https://www.thewhiskyexchange.com/p/37317/the-chita-whisky', 'https://www.thewhiskyexchange.com/p/23928/nikka-coffey-grain-whisky', 'https://www.thewhiskyexchange.com/p/31531/akashi-single-malt-whisky', 'https://www.thewhiskyexchange.com/p/23771/hakushu-distillers-reserve', 'https://www.thewhiskyexchange.com/p/23772/yamazaki-distillers-reserve', 'https://www.thewhiskyexchange.com/p/29388/suntory-hibiki-harmony', 'https://www.thewhiskyexchange.com/p/32761/yoichi-single-malt', 'https://www.thewhiskyexchange.com/p/32762/miyagikyo-single-malt', 'https://www.thewhiskyexchange.com/p/45366/kaiyo-mizunara-oak', 'https://www.thewhiskyexchange.com/p/52590/kaiyo-peated-mizunara-oak', 'https://www.thewhiskyexchange.com/p/45367/kaiyo-mizunara-oak-cask-strength', 'https://www.thewhiskyexchange.com/p/67583/mars-komatgatake-edition-bot2021', 'https://www.thewhiskyexchange.com/p/34461/akashi-5-year-old-sherry-cask-half-litre', 'https://www.thewhiskyexchange.com/p/2940/yamazaki-12-year-old', 'https://www.thewhiskyexchange.com/p/64651/nikka-coffey-grain-whisky-show-package-1-sunday-ticket', 'https://www.thewhiskyexchange.com/p/2922/hakushu-12-year-old', 'https://www.thewhiskyexchange.com/p/64380/shizuoka-single-malt-prologue-k-and-prologue-w-2x20cl', 'https://www.thewhiskyexchange.com/p/64652/nikka-coffey-grain-whisky-show-package-2-sunday-tickets', 'https://www.thewhiskyexchange.com/p/50479/ichiros-malt-double-distilleries-2021']\n"
          ]
        }
      ]
    },
    {
      "cell_type": "code",
      "source": [
        "productlinks = []\n",
        "for x in range(1,6):  \n",
        " k = requests.get('https://www.thewhiskyexchange.com/c/35/japanese-whisky?pg={}&psize=24&sort=pasc'.format(x)).text  \n",
        " soup=BeautifulSoup(k,'html.parser')  \n",
        " productlist = soup.find_all(\"li\",{\"class\":\"product-grid__item\"})\n",
        " \n",
        "for product in productlist:\n",
        "        link = product.find(\"a\",{\"class\":\"product-card\"}).get('href')\n",
        "        productlinks.append(baseurl + link)"
      ],
      "metadata": {
        "id": "7ArUmYvRIQvV"
      },
      "execution_count": 16,
      "outputs": []
    },
    {
      "cell_type": "code",
      "source": [
        "data=[]\n",
        "for link in productlinks:\n",
        "    f = requests.get(link,headers=headers).text\n",
        "    hun=BeautifulSoup(f,'html.parser')\n",
        "\n",
        "    try:\n",
        "        price=hun.find(\"p\",{\"class\":\"product-action__price\"}).text.replace('\\n',\"\")\n",
        "                            \n",
        "    except:\n",
        "        price = None\n",
        "\n",
        "    try:\n",
        "        about=hun.find(\"div\",{\"class\":\"product-main__description\"}).text.replace('\\n',\"\")\n",
        "    except:\n",
        "        about=None\n",
        "\n",
        "    try:\n",
        "        rating = hun.find(\"div\",{\"class\":\"review-overview\"}).text.replace('\\n',\"\")\n",
        "    except:\n",
        "        rating=None\n",
        "    \n",
        "    try:\n",
        "        name=hun.find(\"h1\",{\"class\":\"product-main__name\"}).text.replace('\\n',\"\")\n",
        "    except:\n",
        "        name=None\n",
        "\n",
        "    whisky = {\"name\":name,\"price\":price,\"rating\":rating,\"about\":about}\n",
        "\n",
        "    data.append(whisky)"
      ],
      "metadata": {
        "id": "21vX1K-eIQw6"
      },
      "execution_count": 17,
      "outputs": []
    },
    {
      "cell_type": "code",
      "source": [
        "df = pd.DataFrame(data)\n",
        "\n",
        "print(df)"
      ],
      "metadata": {
        "colab": {
          "base_uri": "https://localhost:8080/"
        },
        "id": "NpJiLYNJIQyr",
        "outputId": "a863a7ef-6175-4064-b266-5f613e3ed52d"
      },
      "execution_count": 18,
      "outputs": [
        {
          "output_type": "stream",
          "name": "stdout",
          "text": [
            "                                                 name   price  \\\n",
            "0                               Suntory Torys Classic  £30.45   \n",
            "1                                        Suntory Toki  £33.95   \n",
            "2                              Shinju Japanese Whisky  £37.45   \n",
            "3            The House of Suntory Triology Pack3x20cl  £44.95   \n",
            "4                   Shinju Japanese 8 Year Old Whisky  £47.45   \n",
            "5                                    The Chita Whisky  £51.95   \n",
            "6                           Nikka Coffey Grain Whisky  £57.95   \n",
            "7                           Akashi Single Malt Whisky  £66.75   \n",
            "8                         Hakushu Distiller's Reserve  £70.95   \n",
            "9                        Yamazaki Distiller's Reserve  £72.95   \n",
            "10                             Suntory Hibiki Harmony  £76.95   \n",
            "11                                 Yoichi Single Malt  £77.75   \n",
            "12                              Miyagikyo Single Malt  £78.45   \n",
            "13                                 Kaiyo Mizunara Oak  £82.95   \n",
            "14                          Kaiyo Peated Mizunara Oak  £99.95   \n",
            "15                   Kaiyo Mizunara Oak Cask Strength    £110   \n",
            "16                  Mars Komatgatake Edition Bot.2021    £145   \n",
            "17            Akashi 5 Year OldSherry Cask Half Litre    £150   \n",
            "18                               Yamazaki 12 Year Old    £150   \n",
            "19  Nikka Coffey Grain Whisky Show Package1 Sunday...    £165   \n",
            "20                                Hakushu 12 Year Old    £185   \n",
            "21  Shizuoka Single Malt Prologue K and Prologue W...    £199   \n",
            "22  Nikka Coffey Grain Whisky Show Package2 Sunday...    £264   \n",
            "23             Ichiro's Malt Double Distilleries 2021    £299   \n",
            "\n",
            "             rating                                              about  \n",
            "0    3.5(2 Reviews)  Suntory Torys Classic is a light and easy-drin...  \n",
            "1     4(33 Reviews)  Toki is a blended whisky from Suntory's three ...  \n",
            "2              None  A sweet, fruity Japanese whisky from Shinju th...  \n",
            "3              None  Explore the spirits of the House of Suntory wi...  \n",
            "4              None  A sweet, fruity eight-year-old whisky from Shi...  \n",
            "5   4.5(42 Reviews)  Chita is Suntory's grain distillery. The flags...  \n",
            "6   4.5(51 Reviews)  A release of grain whisky from Japan's Nikka, ...  \n",
            "7      5(2 Reviews)  Akashi Single Malt Whisky is made at the White...  \n",
            "8   4.5(28 Reviews)  A green and crunchy entry in the Hakushu Range...  \n",
            "9   4.5(54 Reviews)  A fresh and fruity whisky from Yamazaki, full ...  \n",
            "10    4(57 Reviews)  Hibiki Japanese Harmony is a blend of Japanese...  \n",
            "11  4.5(10 Reviews)  Relaunched in 2016, this comes from Nikka's ex...  \n",
            "12  4.5(10 Reviews)  Nikka's entry-level whisky from Miyagikyo dist...  \n",
            "13     5(2 Reviews)  Kaiyo's stock of Mizunara oak casks is its pri...  \n",
            "14             None  A fruity, zesty and softly-smoky Japanese whis...  \n",
            "15     5(3 Reviews)  This is cask-strength edition of Kaiyo's Mizun...  \n",
            "16             None  The 2021-edition of Mars Komagatake Japanese s...  \n",
            "17     5(2 Reviews)  Akashi Single Malt Whisky is made at the White...  \n",
            "18  4.5(94 Reviews)  One of the first Japanese single malts to brea...  \n",
            "19             None  A great ticket bundle to get you in the mood f...  \n",
            "20  4.5(32 Reviews)  A perennial favourite and a must-try for anyon...  \n",
            "21             None  A pair of Japanese single malts from Shizuoka ...  \n",
            "22             None  A great ticket bundle to get you in the mood f...  \n",
            "23      2(1 Review)  Ichiro's Malt Double Distilleries 2021 is a Ja...  \n"
          ]
        }
      ]
    },
    {
      "cell_type": "code",
      "source": [],
      "metadata": {
        "id": "TTyNd08ZJyjb"
      },
      "execution_count": null,
      "outputs": []
    },
    {
      "cell_type": "code",
      "source": [],
      "metadata": {
        "id": "NGpLF6D-Jyq4"
      },
      "execution_count": null,
      "outputs": []
    }
  ]
}